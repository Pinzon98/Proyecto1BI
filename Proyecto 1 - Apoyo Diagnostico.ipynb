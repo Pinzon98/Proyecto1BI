{
 "cells": [
  {
   "cell_type": "markdown",
   "id": "c211b132",
   "metadata": {},
   "source": [
    "# Apoyo Diagnostico"
   ]
  },
  {
   "cell_type": "markdown",
   "id": "45c6498f",
   "metadata": {},
   "source": [
    "## Comprensión del negocio y enfoque analítico"
   ]
  },
  {
   "cell_type": "markdown",
   "id": "cb7b61c8",
   "metadata": {},
   "source": [
    "#### Objetivo\n",
    "- Identificar los problemas que tiene un paciente por medio de una descripción dada por el médico.\n",
    "- Proporcionar un problema acertado en base a la descripción del médico.\n",
    "#### Criterios de Exito\n",
    "- El modelo proporciona un resultado asertivo con respecto a una descripción del medico. Se debe tener una exactitud mayor al 70% para considerar el modelo exitoso para el apoyo de diagnosticos medicos.\n",
    "#### Tareas de Analitica\n",
    "- Las tareas de analitica de textos que se consideran adecuadas para cumplir con el objetivo del negocio son clasificación y agrupación.\n",
    "#### Descripción del requerimiento de negocio\n",
    "- El requerimiento del negocio es resuelto por medio de clasificación ya que al tener la variable objetivo la cual seria problems_described por medio de un modelo supervisado se puede encontrar las palabras claves que determinarian el problema del paciente. Por otro lado, al usar un modelo no supervisado el cual seria agrupacion se podrian generar grupo de palabras importantes en comun para poder determinar el problema que el paciente podria llegar a tener."
   ]
  },
  {
   "cell_type": "markdown",
   "id": "1c3ba02c",
   "metadata": {},
   "source": [
    "## Importaciones"
   ]
  },
  {
   "cell_type": "code",
   "execution_count": 24,
   "id": "5b67cab0",
   "metadata": {},
   "outputs": [
    {
     "name": "stderr",
     "output_type": "stream",
     "text": [
      "[nltk_data] Downloading package stopwords to\n",
      "[nltk_data]     C:\\Users\\User\\AppData\\Roaming\\nltk_data...\n",
      "[nltk_data]   Package stopwords is already up-to-date!\n"
     ]
    }
   ],
   "source": [
    "import pandas as pd\n",
    "import string\n",
    "import nltk\n",
    "from itertools import chain\n",
    "from nltk.corpus import stopwords\n",
    "nltk.download('stopwords')\n",
    "import matplotlib.pyplot as plt\n",
    "pd.options.mode.chained_assignment = None\n",
    "from sklearn.feature_extraction.text import TfidfVectorizer\n",
    "from sklearn.ensemble import RandomForestClassifier\n",
    "from sklearn.model_selection import GridSearchCV\n",
    "from sklearn.metrics import classification_report\n",
    "from scipy.sparse import coo_matrix, hstack"
   ]
  },
  {
   "cell_type": "markdown",
   "id": "4397ba2d",
   "metadata": {},
   "source": [
    "## Lectura de archivo"
   ]
  },
  {
   "cell_type": "code",
   "execution_count": 2,
   "id": "d4f585ff",
   "metadata": {},
   "outputs": [],
   "source": [
    "# Lectura de los archivos proporcionados con la información de las descripciones de los medicos y el problema detectado\n",
    "data_set_inicial = pd.read_csv('medical_text_clasificacion.csv')"
   ]
  },
  {
   "cell_type": "code",
   "execution_count": 3,
   "id": "e8e4e3f7",
   "metadata": {},
   "outputs": [
    {
     "data": {
      "text/html": [
       "<div>\n",
       "<style scoped>\n",
       "    .dataframe tbody tr th:only-of-type {\n",
       "        vertical-align: middle;\n",
       "    }\n",
       "\n",
       "    .dataframe tbody tr th {\n",
       "        vertical-align: top;\n",
       "    }\n",
       "\n",
       "    .dataframe thead th {\n",
       "        text-align: right;\n",
       "    }\n",
       "</style>\n",
       "<table border=\"1\" class=\"dataframe\">\n",
       "  <thead>\n",
       "    <tr style=\"text-align: right;\">\n",
       "      <th></th>\n",
       "      <th>medical_abstracts</th>\n",
       "      <th>problems_described</th>\n",
       "    </tr>\n",
       "  </thead>\n",
       "  <tbody>\n",
       "    <tr>\n",
       "      <th>0</th>\n",
       "      <td>Cell lineage markers in human pancreatic cance...</td>\n",
       "      <td>1</td>\n",
       "    </tr>\n",
       "    <tr>\n",
       "      <th>1</th>\n",
       "      <td>Fatal pulmonary venoocclusive disease secondar...</td>\n",
       "      <td>5</td>\n",
       "    </tr>\n",
       "    <tr>\n",
       "      <th>2</th>\n",
       "      <td>High survival rate in advanced-stage B-cell ly...</td>\n",
       "      <td>5</td>\n",
       "    </tr>\n",
       "    <tr>\n",
       "      <th>3</th>\n",
       "      <td>Intracranial chordoma in a preadolescent. Case...</td>\n",
       "      <td>1</td>\n",
       "    </tr>\n",
       "    <tr>\n",
       "      <th>4</th>\n",
       "      <td>Analysis of prognostic factors and clinicopath...</td>\n",
       "      <td>3</td>\n",
       "    </tr>\n",
       "  </tbody>\n",
       "</table>\n",
       "</div>"
      ],
      "text/plain": [
       "                                   medical_abstracts  problems_described\n",
       "0  Cell lineage markers in human pancreatic cance...                   1\n",
       "1  Fatal pulmonary venoocclusive disease secondar...                   5\n",
       "2  High survival rate in advanced-stage B-cell ly...                   5\n",
       "3  Intracranial chordoma in a preadolescent. Case...                   1\n",
       "4  Analysis of prognostic factors and clinicopath...                   3"
      ]
     },
     "execution_count": 3,
     "metadata": {},
     "output_type": "execute_result"
    }
   ],
   "source": [
    "# Se muestran los primeros datos del dataset para tener idea de como se veran los datos\n",
    "data_set_inicial.head()"
   ]
  },
  {
   "cell_type": "code",
   "execution_count": 4,
   "id": "42269a4a",
   "metadata": {},
   "outputs": [
    {
     "data": {
      "text/plain": [
       "(12000, 2)"
      ]
     },
     "execution_count": 4,
     "metadata": {},
     "output_type": "execute_result"
    }
   ],
   "source": [
    "# Se muestra la cantidad de filas y columnas que tiene el dataset\n",
    "data_set_inicial.shape"
   ]
  },
  {
   "cell_type": "code",
   "execution_count": 5,
   "id": "2c25b1eb",
   "metadata": {},
   "outputs": [
    {
     "data": {
      "text/plain": [
       "medical_abstracts     object\n",
       "problems_described     int64\n",
       "dtype: object"
      ]
     },
     "execution_count": 5,
     "metadata": {},
     "output_type": "execute_result"
    }
   ],
   "source": [
    "# Se muestra el tipo de datos que tiene cada uno de las columnas\n",
    "data_set_inicial.dtypes"
   ]
  },
  {
   "cell_type": "markdown",
   "id": "5c94334f",
   "metadata": {},
   "source": [
    "# Analisis y perfilamiento de los datos"
   ]
  },
  {
   "cell_type": "markdown",
   "id": "19b3ad9d",
   "metadata": {},
   "source": [
    "### Analisis de los datos en la columna problems_described"
   ]
  },
  {
   "cell_type": "code",
   "execution_count": 6,
   "id": "f9835649",
   "metadata": {},
   "outputs": [],
   "source": [
    "# Se recorre la columna de problems_described para poder ver si hay algun dato fuera de rango\n",
    "for i in data_set_inicial[\"problems_described\"]:\n",
    "    if i < 0 or i > 5:\n",
    "        print(i)"
   ]
  },
  {
   "cell_type": "code",
   "execution_count": 7,
   "id": "ec0a91ee",
   "metadata": {},
   "outputs": [
    {
     "data": {
      "text/html": [
       "<div>\n",
       "<style scoped>\n",
       "    .dataframe tbody tr th:only-of-type {\n",
       "        vertical-align: middle;\n",
       "    }\n",
       "\n",
       "    .dataframe tbody tr th {\n",
       "        vertical-align: top;\n",
       "    }\n",
       "\n",
       "    .dataframe thead th {\n",
       "        text-align: right;\n",
       "    }\n",
       "</style>\n",
       "<table border=\"1\" class=\"dataframe\">\n",
       "  <thead>\n",
       "    <tr style=\"text-align: right;\">\n",
       "      <th></th>\n",
       "      <th>problems_described</th>\n",
       "    </tr>\n",
       "  </thead>\n",
       "  <tbody>\n",
       "    <tr>\n",
       "      <th>5</th>\n",
       "      <td>3993</td>\n",
       "    </tr>\n",
       "    <tr>\n",
       "      <th>1</th>\n",
       "      <td>2629</td>\n",
       "    </tr>\n",
       "    <tr>\n",
       "      <th>4</th>\n",
       "      <td>2536</td>\n",
       "    </tr>\n",
       "    <tr>\n",
       "      <th>3</th>\n",
       "      <td>1600</td>\n",
       "    </tr>\n",
       "    <tr>\n",
       "      <th>2</th>\n",
       "      <td>1242</td>\n",
       "    </tr>\n",
       "  </tbody>\n",
       "</table>\n",
       "</div>"
      ],
      "text/plain": [
       "   problems_described\n",
       "5                3993\n",
       "1                2629\n",
       "4                2536\n",
       "3                1600\n",
       "2                1242"
      ]
     },
     "execution_count": 7,
     "metadata": {},
     "output_type": "execute_result"
    }
   ],
   "source": [
    "# Se cuenta la cantidad de valores de cada tipo de problema para analizar que tan repartidos estan los valores\n",
    "data_set_inicial[\"problems_described\"].value_counts().to_frame()"
   ]
  },
  {
   "cell_type": "code",
   "execution_count": 8,
   "id": "442ca450",
   "metadata": {},
   "outputs": [
    {
     "data": {
      "text/plain": [
       "medical_abstracts     0\n",
       "problems_described    0\n",
       "dtype: int64"
      ]
     },
     "execution_count": 8,
     "metadata": {},
     "output_type": "execute_result"
    }
   ],
   "source": [
    "# Se verifica la cantidad de valores nulos que hay en el dataset\n",
    "data_set_inicial.isna().sum()"
   ]
  },
  {
   "cell_type": "code",
   "execution_count": 9,
   "id": "9d45d55b",
   "metadata": {},
   "outputs": [],
   "source": [
    "# Se eliminan los valores duplicados si llega a tenerlos\n",
    "data_set_inicial = data_set_inicial.drop_duplicates()"
   ]
  },
  {
   "cell_type": "markdown",
   "id": "c6338d9f",
   "metadata": {},
   "source": [
    "### Analisis de los datos en la columna medical_abstracts"
   ]
  },
  {
   "cell_type": "code",
   "execution_count": 10,
   "id": "5596ac93",
   "metadata": {},
   "outputs": [
    {
     "data": {
      "image/png": "[encoded data removed]",
      "text/plain": [
       "<Figure size 1080x1080 with 1 Axes>"
      ]
     },
     "metadata": {
      "needs_background": "light"
     },
     "output_type": "display_data"
    },
    {
     "data": {
      "text/plain": [
       "<AxesSubplot:xlabel='Samples', ylabel='Counts'>"
      ]
     },
     "execution_count": 10,
     "metadata": {},
     "output_type": "execute_result"
    }
   ],
   "source": [
    "# Se presenta un diagrama con las palabras más comunes en todos los textos presentados en en medical abstract\n",
    "frequency_dist = nltk.FreqDist(list(chain.from_iterable(data_set_inicial[\"medical_abstracts\"].apply(lambda d: d.split(' ')).values)))\n",
    "plt.figure(figsize=(15,15))\n",
    "frequency_dist.plot(60,cumulative=False)"
   ]
  },
  {
   "cell_type": "markdown",
   "id": "8fe1d3d2",
   "metadata": {},
   "source": [
    "Como se puede observar en la grafica se determina que la mayoria de las palabras encontradas son las palabras más comunes en ingles que pertenecen a conectores, pronombres, entre otros. Con el fin de elaborar un estudio adecuado es necesario eliminar estas palabras y eliminar datos que no generan ningun aporte al modelo"
   ]
  },
  {
   "cell_type": "markdown",
   "id": "71706aa2",
   "metadata": {},
   "source": [
    "### Arreglo de datos en la columna medical_abstracts"
   ]
  },
  {
   "cell_type": "code",
   "execution_count": 11,
   "id": "99c6b9d0",
   "metadata": {},
   "outputs": [],
   "source": [
    "# Se genera una copia del dataset para hacer las modificaciones\n",
    "data_set_texto = data_set_inicial"
   ]
  },
  {
   "cell_type": "code",
   "execution_count": 12,
   "id": "fcf5ff9f",
   "metadata": {},
   "outputs": [],
   "source": [
    "# Se recorren los textos del medical_abstract y se eliminan las puntuaciones, numeros y simbolos y se pasa todo a minusculas\n",
    "for i in range(len(data_set_texto[\"medical_abstracts\"])):\n",
    "    texto = data_set_texto[\"medical_abstracts\"][i]\n",
    "    texto = texto.replace(\".\",\"\")\n",
    "    texto = texto.replace(\";\",\"\")\n",
    "    texto = texto.replace(\",\",\"\")\n",
    "    texto = texto.replace(\"(\",\"\")\n",
    "    texto = texto.replace(\")\",\"\")\n",
    "    texto = texto.replace('\"',\"\")\n",
    "    texto = texto.replace(':',\"\")\n",
    "    texto = texto.replace(\"1\",\"\")\n",
    "    texto = texto.replace(\"2\",\"\")\n",
    "    texto = texto.replace(\"3\",\"\")\n",
    "    texto = texto.replace(\"4\",\"\")\n",
    "    texto = texto.replace(\"5\",\"\")\n",
    "    texto = texto.replace(\"6\",\"\")\n",
    "    texto = texto.replace(\"7\",\"\")\n",
    "    texto = texto.replace(\"8\",\"\")\n",
    "    texto = texto.replace(\"9\",\"\")\n",
    "    texto = texto.replace(\"0\",\"\")\n",
    "    texto = texto.replace(\"=\",\"\")\n",
    "    texto = texto.replace(\"%\",\"\")\n",
    "    \n",
    "    texto = texto.lower()\n",
    "    data_set_texto[\"medical_abstracts\"][i] = texto"
   ]
  },
  {
   "cell_type": "code",
   "execution_count": 13,
   "id": "38914f9c",
   "metadata": {},
   "outputs": [],
   "source": [
    "# Se separan las palabras por espacios y remplazan por una lista de palabras\n",
    "for i in range(len(data_set_texto)):\n",
    "    data_set_texto[\"medical_abstracts\"][i] = data_set_texto[\"medical_abstracts\"][i].split(\" \") "
   ]
  },
  {
   "cell_type": "code",
   "execution_count": 14,
   "id": "db80bc82",
   "metadata": {},
   "outputs": [],
   "source": [
    "# Se eliminan las palabras más comunes en ingles para poder tener un analisis mejor\n",
    "s=set(stopwords.words('english'))\n",
    "for i in range(len(data_set_texto[\"medical_abstracts\"])):\n",
    "    descMedicaRelevante = []\n",
    "    for j in data_set_texto[\"medical_abstracts\"][i]:\n",
    "        if j not in s and j != \"\\n\" and j != \"\" and j != \"-\":\n",
    "            descMedicaRelevante.append(j)\n",
    "    data_set_texto[\"medical_abstracts\"][i] = descMedicaRelevante"
   ]
  },
  {
   "cell_type": "code",
   "execution_count": 15,
   "id": "2b1854d5",
   "metadata": {},
   "outputs": [
    {
     "data": {
      "image/png": "[encoded data removed]",
      "text/plain": [
       "<Figure size 1080x1080 with 1 Axes>"
      ]
     },
     "metadata": {
      "needs_background": "light"
     },
     "output_type": "display_data"
    },
    {
     "data": {
      "text/plain": [
       "<AxesSubplot:xlabel='Samples', ylabel='Counts'>"
      ]
     },
     "execution_count": 15,
     "metadata": {},
     "output_type": "execute_result"
    }
   ],
   "source": [
    "# Se presenta un grafico con las palabras más comunes en todos los textos\n",
    "frequency_dist = nltk.FreqDist(list(chain.from_iterable(data_set_texto[\"medical_abstracts\"].values)))\n",
    "plt.figure(figsize=(15,15))\n",
    "frequency_dist.plot(60,cumulative=False)"
   ]
  },
  {
   "cell_type": "code",
   "execution_count": 16,
   "id": "3d8057c8",
   "metadata": {},
   "outputs": [
    {
     "data": {
      "text/plain": [
       "1299229"
      ]
     },
     "execution_count": 16,
     "metadata": {},
     "output_type": "execute_result"
    }
   ],
   "source": [
    "# Se presenta un conteo de la cantidad de valores diferentes que hay\n",
    "len(list(chain.from_iterable(data_set_texto[\"medical_abstracts\"].values))) "
   ]
  },
  {
   "cell_type": "code",
   "execution_count": 17,
   "id": "ab94fb07",
   "metadata": {},
   "outputs": [
    {
     "data": {
      "text/html": [
       "<div>\n",
       "<style scoped>\n",
       "    .dataframe tbody tr th:only-of-type {\n",
       "        vertical-align: middle;\n",
       "    }\n",
       "\n",
       "    .dataframe tbody tr th {\n",
       "        vertical-align: top;\n",
       "    }\n",
       "\n",
       "    .dataframe thead th {\n",
       "        text-align: right;\n",
       "    }\n",
       "</style>\n",
       "<table border=\"1\" class=\"dataframe\">\n",
       "  <thead>\n",
       "    <tr style=\"text-align: right;\">\n",
       "      <th></th>\n",
       "      <th>medical_abstracts</th>\n",
       "      <th>problems_described</th>\n",
       "    </tr>\n",
       "  </thead>\n",
       "  <tbody>\n",
       "    <tr>\n",
       "      <th>0</th>\n",
       "      <td>cell lineage markers human pancreatic cancer n...</td>\n",
       "      <td>1</td>\n",
       "    </tr>\n",
       "    <tr>\n",
       "      <th>1</th>\n",
       "      <td>fatal pulmonary venoocclusive disease secondar...</td>\n",
       "      <td>5</td>\n",
       "    </tr>\n",
       "    <tr>\n",
       "      <th>2</th>\n",
       "      <td>high survival rate advanced-stage b-cell lymph...</td>\n",
       "      <td>5</td>\n",
       "    </tr>\n",
       "    <tr>\n",
       "      <th>3</th>\n",
       "      <td>intracranial chordoma preadolescent case repor...</td>\n",
       "      <td>1</td>\n",
       "    </tr>\n",
       "    <tr>\n",
       "      <th>4</th>\n",
       "      <td>analysis prognostic factors clinicopathologica...</td>\n",
       "      <td>3</td>\n",
       "    </tr>\n",
       "  </tbody>\n",
       "</table>\n",
       "</div>"
      ],
      "text/plain": [
       "                                   medical_abstracts  problems_described\n",
       "0  cell lineage markers human pancreatic cancer n...                   1\n",
       "1  fatal pulmonary venoocclusive disease secondar...                   5\n",
       "2  high survival rate advanced-stage b-cell lymph...                   5\n",
       "3  intracranial chordoma preadolescent case repor...                   1\n",
       "4  analysis prognostic factors clinicopathologica...                   3"
      ]
     },
     "execution_count": 17,
     "metadata": {},
     "output_type": "execute_result"
    }
   ],
   "source": [
    "# Se convierte el arreglo a texto para poder realizar el analisis esperado\n",
    "text=data_set_texto[\"medical_abstracts\"].apply(lambda d: ' '.join(d)).copy()\n",
    "data_set_texto[\"medical_abstracts\"] = text\n",
    "data_set_texto.head()"
   ]
  },
  {
   "cell_type": "markdown",
   "id": "cf43b448",
   "metadata": {},
   "source": [
    "## Modelamiento y Evaluacion"
   ]
  },
  {
   "cell_type": "code",
   "execution_count": 18,
   "id": "1b3c8e75",
   "metadata": {},
   "outputs": [],
   "source": [
    "# Se vectorizan los datos de texto\n",
    "tfidf_text=TfidfVectorizer(max_features=20000).fit(text)"
   ]
  },
  {
   "cell_type": "code",
   "execution_count": 19,
   "id": "8ccfb986",
   "metadata": {},
   "outputs": [],
   "source": [
    "# Se vectorizan los valores en la columna medical abstract para hacer el modelamiento\n",
    "df_model = data_set_texto\n",
    "X_text=tfidf_text.transform(df_model[\"medical_abstracts\"])"
   ]
  },
  {
   "cell_type": "markdown",
   "id": "3665495d",
   "metadata": {},
   "source": [
    "### Random Forest Classifier"
   ]
  },
  {
   "cell_type": "code",
   "execution_count": 20,
   "id": "e4cc71e1",
   "metadata": {},
   "outputs": [],
   "source": [
    "# Se definen los parametros a usar en el modelo de random forest\n",
    "parameters={'criterion':[\"gini\",\"entropy\"],'n_estimators':[50,100,150]}"
   ]
  },
  {
   "cell_type": "code",
   "execution_count": 21,
   "id": "f5b1fb6a",
   "metadata": {},
   "outputs": [],
   "source": [
    "# Se implementa el modelo random forest\n",
    "RFC=RandomForestClassifier(n_jobs=-1)"
   ]
  },
  {
   "cell_type": "code",
   "execution_count": 22,
   "id": "f28454c3",
   "metadata": {},
   "outputs": [],
   "source": [
    "# Se genera el modelo\n",
    "RFC_best=GridSearchCV(RFC,parameters).fit(X_text,df_model[\"problems_described\"].values).best_estimator_"
   ]
  },
  {
   "cell_type": "code",
   "execution_count": 26,
   "id": "6568414e",
   "metadata": {},
   "outputs": [
    {
     "name": "stdout",
     "output_type": "stream",
     "text": [
      "              precision    recall  f1-score   support\n",
      "\n",
      "           1       0.84      0.90      0.87      2629\n",
      "           2       0.79      0.74      0.76      1242\n",
      "           3       0.83      0.75      0.79      1600\n",
      "           4       0.82      0.88      0.85      2536\n",
      "           5       0.79      0.76      0.78      3993\n",
      "\n",
      "    accuracy                           0.81     12000\n",
      "   macro avg       0.81      0.81      0.81     12000\n",
      "weighted avg       0.81      0.81      0.81     12000\n",
      "\n"
     ]
    }
   ],
   "source": [
    "# Se imprime el reporte con las predicciones por cada uno de los problemas\n",
    "print(classification_report(df_model[\"problems_described\"].values, RFC_best.predict(X_text), labels=[1, 2, 3, 4, 5]))"
   ]
  },
  {
   "cell_type": "code",
   "execution_count": null,
   "id": "8619b88f",
   "metadata": {},
   "outputs": [],
   "source": []
  }
 ],
 "metadata": {
  "kernelspec": {
   "display_name": "Python 3 (ipykernel)",
   "language": "python",
   "name": "python3"
  },
  "language_info": {
   "codemirror_mode": {
    "name": "ipython",
    "version": 3
   },
   "file_extension": ".py",
   "mimetype": "text/x-python",
   "name": "python",
   "nbconvert_exporter": "python",
   "pygments_lexer": "ipython3",
   "version": "3.8.12"
  }
 },
 "nbformat": 4,
 "nbformat_minor": 5
}
