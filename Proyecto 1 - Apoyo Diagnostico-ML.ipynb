{
 "cells": [
  {
   "cell_type": "markdown",
   "id": "c211b132",
   "metadata": {},
   "source": [
    "# Apoyo Diagnostico"
   ]
  },
  {
   "cell_type": "markdown",
   "id": "45c6498f",
   "metadata": {},
   "source": [
    "## Comprensión del negocio y enfoque analítico"
   ]
  },
  {
   "cell_type": "markdown",
   "id": "cb7b61c8",
   "metadata": {},
   "source": [
    "#### Objetivo\n",
    "- Identificar los problemas que tiene un paciente por medio de una descripción dada por el médico.\n",
    "- Proporcionar un problema acertado en base a la descripción del médico.\n",
    "#### Criterios de Exito\n",
    "- El modelo proporciona un resultado asertivo con respecto a una descripción del medico. Se debe tener una exactitud mayor al 70% para considerar el modelo exitoso para el apoyo de diagnosticos medicos.\n",
    "#### Tareas de Analitica\n",
    "- Las tareas de analitica de textos que se consideran adecuadas para cumplir con el objetivo del negocio son clasificación y agrupación.\n",
    "#### Descripción del requerimiento de negocio\n",
    "- El requerimiento del negocio es resuelto por medio de clasificación ya que al tener la variable objetivo la cual seria problems_described por medio de un modelo supervisado se puede encontrar las palabras claves que determinarian el problema del paciente. Por otro lado, al usar un modelo no supervisado el cual seria agrupacion se podrian generar grupo de palabras importantes en comun para poder determinar el problema que el paciente podria llegar a tener."
   ]
  },
  {
   "cell_type": "markdown",
   "id": "1c3ba02c",
   "metadata": {},
   "source": [
    "## Importaciones"
   ]
  },
  {
   "cell_type": "code",
   "execution_count": 1,
   "id": "5b67cab0",
   "metadata": {},
   "outputs": [
    {
     "name": "stderr",
     "output_type": "stream",
     "text": [
      "[nltk_data] Downloading package stopwords to\n",
      "[nltk_data]     C:\\Users\\User\\AppData\\Roaming\\nltk_data...\n",
      "[nltk_data]   Package stopwords is already up-to-date!\n"
     ]
    }
   ],
   "source": [
    "import pandas as pd\n",
    "import string\n",
    "import nltk\n",
    "from itertools import chain\n",
    "from nltk.corpus import stopwords\n",
    "nltk.download('stopwords')\n",
    "import matplotlib.pyplot as plt\n",
    "pd.options.mode.chained_assignment = None\n",
    "from sklearn.feature_extraction.text import TfidfVectorizer, CountVectorizer\n",
    "from sklearn.ensemble import RandomForestClassifier\n",
    "from sklearn.model_selection import GridSearchCV\n",
    "from sklearn.metrics import classification_report\n",
    "from scipy.sparse import coo_matrix, hstack\n",
    "\n",
    "import numpy as np\n",
    "np.random.seed(3301)\n",
    "# Para crear el arbol de decisión \n",
    "from sklearn.tree import DecisionTreeClassifier \n",
    "# Para realizar la separación del conjunto de aprendizaje en entrenamiento y test.\n",
    "from sklearn.model_selection import train_test_split\n",
    "# Para evaluar el modelo\n",
    "from sklearn.metrics import confusion_matrix, classification_report, precision_score, recall_score, f1_score, accuracy_score\n",
    "from sklearn.metrics import plot_confusion_matrix\n",
    "# Para búsqueda de hiperparámetros\n",
    "from sklearn.model_selection import GridSearchCV\n",
    "# Para la validación cruzada\n",
    "from sklearn.model_selection import KFold\n",
    "# Para resampling\n",
    "from sklearn.utils import resample \n",
    "#Librerías para la visualización\n",
    "import matplotlib.pyplot as plt\n",
    "%matplotlib inline\n",
    "# Seaborn\n",
    "import seaborn as sns \n",
    "from sklearn import tree"
   ]
  },
  {
   "cell_type": "markdown",
   "id": "4397ba2d",
   "metadata": {},
   "source": [
    "## Lectura de archivo"
   ]
  },
  {
   "cell_type": "code",
   "execution_count": 2,
   "id": "d4f585ff",
   "metadata": {},
   "outputs": [],
   "source": [
    "# Lectura de los archivos proporcionados con la información de las descripciones de los medicos y el problema detectado\n",
    "data_set_inicial = pd.read_csv('medical_text_clasificacion.csv')"
   ]
  },
  {
   "cell_type": "code",
   "execution_count": 3,
   "id": "e8e4e3f7",
   "metadata": {},
   "outputs": [
    {
     "data": {
      "text/html": [
       "<div>\n",
       "<style scoped>\n",
       "    .dataframe tbody tr th:only-of-type {\n",
       "        vertical-align: middle;\n",
       "    }\n",
       "\n",
       "    .dataframe tbody tr th {\n",
       "        vertical-align: top;\n",
       "    }\n",
       "\n",
       "    .dataframe thead th {\n",
       "        text-align: right;\n",
       "    }\n",
       "</style>\n",
       "<table border=\"1\" class=\"dataframe\">\n",
       "  <thead>\n",
       "    <tr style=\"text-align: right;\">\n",
       "      <th></th>\n",
       "      <th>medical_abstracts</th>\n",
       "      <th>problems_described</th>\n",
       "    </tr>\n",
       "  </thead>\n",
       "  <tbody>\n",
       "    <tr>\n",
       "      <th>0</th>\n",
       "      <td>Cell lineage markers in human pancreatic cance...</td>\n",
       "      <td>1</td>\n",
       "    </tr>\n",
       "    <tr>\n",
       "      <th>1</th>\n",
       "      <td>Fatal pulmonary venoocclusive disease secondar...</td>\n",
       "      <td>5</td>\n",
       "    </tr>\n",
       "    <tr>\n",
       "      <th>2</th>\n",
       "      <td>High survival rate in advanced-stage B-cell ly...</td>\n",
       "      <td>5</td>\n",
       "    </tr>\n",
       "    <tr>\n",
       "      <th>3</th>\n",
       "      <td>Intracranial chordoma in a preadolescent. Case...</td>\n",
       "      <td>1</td>\n",
       "    </tr>\n",
       "    <tr>\n",
       "      <th>4</th>\n",
       "      <td>Analysis of prognostic factors and clinicopath...</td>\n",
       "      <td>3</td>\n",
       "    </tr>\n",
       "  </tbody>\n",
       "</table>\n",
       "</div>"
      ],
      "text/plain": [
       "                                   medical_abstracts  problems_described\n",
       "0  Cell lineage markers in human pancreatic cance...                   1\n",
       "1  Fatal pulmonary venoocclusive disease secondar...                   5\n",
       "2  High survival rate in advanced-stage B-cell ly...                   5\n",
       "3  Intracranial chordoma in a preadolescent. Case...                   1\n",
       "4  Analysis of prognostic factors and clinicopath...                   3"
      ]
     },
     "execution_count": 3,
     "metadata": {},
     "output_type": "execute_result"
    }
   ],
   "source": [
    "# Se muestran los primeros datos del dataset para tener idea de como se veran los datos\n",
    "data_set_inicial.head()"
   ]
  },
  {
   "cell_type": "code",
   "execution_count": 4,
   "id": "42269a4a",
   "metadata": {},
   "outputs": [
    {
     "data": {
      "text/plain": [
       "(12000, 2)"
      ]
     },
     "execution_count": 4,
     "metadata": {},
     "output_type": "execute_result"
    }
   ],
   "source": [
    "# Se muestra la cantidad de filas y columnas que tiene el dataset\n",
    "data_set_inicial.shape"
   ]
  },
  {
   "cell_type": "code",
   "execution_count": 5,
   "id": "2c25b1eb",
   "metadata": {},
   "outputs": [
    {
     "data": {
      "text/plain": [
       "medical_abstracts     object\n",
       "problems_described     int64\n",
       "dtype: object"
      ]
     },
     "execution_count": 5,
     "metadata": {},
     "output_type": "execute_result"
    }
   ],
   "source": [
    "# Se muestra el tipo de datos que tiene cada uno de las columnas\n",
    "data_set_inicial.dtypes"
   ]
  },
  {
   "cell_type": "markdown",
   "id": "5c94334f",
   "metadata": {},
   "source": [
    "# Analisis y perfilamiento de los datos"
   ]
  },
  {
   "cell_type": "markdown",
   "id": "19b3ad9d",
   "metadata": {},
   "source": [
    "### Analisis de los datos en la columna problems_described"
   ]
  },
  {
   "cell_type": "code",
   "execution_count": 6,
   "id": "f9835649",
   "metadata": {},
   "outputs": [],
   "source": [
    "# Se recorre la columna de problems_described para poder ver si hay algun dato fuera de rango\n",
    "for i in data_set_inicial[\"problems_described\"]:\n",
    "    if i < 0 or i > 5:\n",
    "        print(i)"
   ]
  },
  {
   "cell_type": "code",
   "execution_count": 7,
   "id": "ec0a91ee",
   "metadata": {},
   "outputs": [
    {
     "data": {
      "text/html": [
       "<div>\n",
       "<style scoped>\n",
       "    .dataframe tbody tr th:only-of-type {\n",
       "        vertical-align: middle;\n",
       "    }\n",
       "\n",
       "    .dataframe tbody tr th {\n",
       "        vertical-align: top;\n",
       "    }\n",
       "\n",
       "    .dataframe thead th {\n",
       "        text-align: right;\n",
       "    }\n",
       "</style>\n",
       "<table border=\"1\" class=\"dataframe\">\n",
       "  <thead>\n",
       "    <tr style=\"text-align: right;\">\n",
       "      <th></th>\n",
       "      <th>problems_described</th>\n",
       "    </tr>\n",
       "  </thead>\n",
       "  <tbody>\n",
       "    <tr>\n",
       "      <th>5</th>\n",
       "      <td>3993</td>\n",
       "    </tr>\n",
       "    <tr>\n",
       "      <th>1</th>\n",
       "      <td>2629</td>\n",
       "    </tr>\n",
       "    <tr>\n",
       "      <th>4</th>\n",
       "      <td>2536</td>\n",
       "    </tr>\n",
       "    <tr>\n",
       "      <th>3</th>\n",
       "      <td>1600</td>\n",
       "    </tr>\n",
       "    <tr>\n",
       "      <th>2</th>\n",
       "      <td>1242</td>\n",
       "    </tr>\n",
       "  </tbody>\n",
       "</table>\n",
       "</div>"
      ],
      "text/plain": [
       "   problems_described\n",
       "5                3993\n",
       "1                2629\n",
       "4                2536\n",
       "3                1600\n",
       "2                1242"
      ]
     },
     "execution_count": 7,
     "metadata": {},
     "output_type": "execute_result"
    }
   ],
   "source": [
    "# Se cuenta la cantidad de valores de cada tipo de problema para analizar que tan repartidos estan los valores\n",
    "data_set_inicial[\"problems_described\"].value_counts().to_frame()"
   ]
  },
  {
   "cell_type": "code",
   "execution_count": 8,
   "id": "442ca450",
   "metadata": {},
   "outputs": [
    {
     "data": {
      "text/plain": [
       "medical_abstracts     0\n",
       "problems_described    0\n",
       "dtype: int64"
      ]
     },
     "execution_count": 8,
     "metadata": {},
     "output_type": "execute_result"
    }
   ],
   "source": [
    "# Se verifica la cantidad de valores nulos que hay en el dataset\n",
    "data_set_inicial.isna().sum()"
   ]
  },
  {
   "cell_type": "code",
   "execution_count": 9,
   "id": "9d45d55b",
   "metadata": {},
   "outputs": [],
   "source": [
    "# Se eliminan los valores duplicados si llega a tenerlos\n",
    "data_set_inicial = data_set_inicial.drop_duplicates()"
   ]
  },
  {
   "cell_type": "markdown",
   "id": "c6338d9f",
   "metadata": {},
   "source": [
    "### Analisis de los datos en la columna medical_abstracts"
   ]
  },
  {
   "cell_type": "code",
   "execution_count": 10,
   "id": "5596ac93",
   "metadata": {},
   "outputs": [
    {
     "data": {
      "image/png": "[encoded data removed]",
      "text/plain": [
       "<Figure size 1080x1080 with 1 Axes>"
      ]
     },
     "metadata": {
      "needs_background": "light"
     },
     "output_type": "display_data"
    },
    {
     "data": {
      "text/plain": [
       "<AxesSubplot:xlabel='Samples', ylabel='Counts'>"
      ]
     },
     "execution_count": 10,
     "metadata": {},
     "output_type": "execute_result"
    }
   ],
   "source": [
    "# Se presenta un diagrama con las palabras más comunes en todos los textos presentados en en medical abstract\n",
    "frequency_dist = nltk.FreqDist(list(chain.from_iterable(data_set_inicial[\"medical_abstracts\"].apply(lambda d: d.split(' ')).values)))\n",
    "plt.figure(figsize=(15,15))\n",
    "frequency_dist.plot(60,cumulative=False)"
   ]
  },
  {
   "cell_type": "markdown",
   "id": "8fe1d3d2",
   "metadata": {},
   "source": [
    "Como se puede observar en la grafica se determina que la mayoria de las palabras encontradas son las palabras más comunes en ingles que pertenecen a conectores, pronombres, entre otros. Con el fin de elaborar un estudio adecuado es necesario eliminar estas palabras y eliminar datos que no generan ningun aporte al modelo"
   ]
  },
  {
   "cell_type": "markdown",
   "id": "71706aa2",
   "metadata": {},
   "source": [
    "### Arreglo de datos en la columna medical_abstracts"
   ]
  },
  {
   "cell_type": "code",
   "execution_count": 11,
   "id": "99c6b9d0",
   "metadata": {},
   "outputs": [],
   "source": [
    "# Se genera una copia del dataset para hacer las modificaciones\n",
    "data_set_texto = data_set_inicial"
   ]
  },
  {
   "cell_type": "code",
   "execution_count": 12,
   "id": "fcf5ff9f",
   "metadata": {},
   "outputs": [],
   "source": [
    "# Se recorren los textos del medical_abstract y se eliminan las puntuaciones, numeros y simbolos y se pasa todo a minusculas\n",
    "for i in range(len(data_set_texto[\"medical_abstracts\"])):\n",
    "    texto = data_set_texto[\"medical_abstracts\"][i]\n",
    "    texto = texto.replace(\".\",\"\")\n",
    "    texto = texto.replace(\";\",\"\")\n",
    "    texto = texto.replace(\",\",\"\")\n",
    "    texto = texto.replace(\"(\",\"\")\n",
    "    texto = texto.replace(\")\",\"\")\n",
    "    texto = texto.replace('\"',\"\")\n",
    "    texto = texto.replace(':',\"\")\n",
    "    texto = texto.replace(\"1\",\"\")\n",
    "    texto = texto.replace(\"2\",\"\")\n",
    "    texto = texto.replace(\"3\",\"\")\n",
    "    texto = texto.replace(\"4\",\"\")\n",
    "    texto = texto.replace(\"5\",\"\")\n",
    "    texto = texto.replace(\"6\",\"\")\n",
    "    texto = texto.replace(\"7\",\"\")\n",
    "    texto = texto.replace(\"8\",\"\")\n",
    "    texto = texto.replace(\"9\",\"\")\n",
    "    texto = texto.replace(\"0\",\"\")\n",
    "    texto = texto.replace(\"=\",\"\")\n",
    "    texto = texto.replace(\"%\",\"\")\n",
    "    \n",
    "    texto = texto.lower()\n",
    "    data_set_texto[\"medical_abstracts\"][i] = texto"
   ]
  },
  {
   "cell_type": "code",
   "execution_count": 13,
   "id": "38914f9c",
   "metadata": {},
   "outputs": [],
   "source": [
    "# Se separan las palabras por espacios y remplazan por una lista de palabras\n",
    "for i in range(len(data_set_texto)):\n",
    "    data_set_texto[\"medical_abstracts\"][i] = data_set_texto[\"medical_abstracts\"][i].split(\" \") "
   ]
  },
  {
   "cell_type": "code",
   "execution_count": 14,
   "id": "db80bc82",
   "metadata": {},
   "outputs": [],
   "source": [
    "# Se eliminan las palabras más comunes en ingles para poder tener un analisis mejor\n",
    "s=set(stopwords.words('english'))\n",
    "for i in range(len(data_set_texto[\"medical_abstracts\"])):\n",
    "    descMedicaRelevante = []\n",
    "    for j in data_set_texto[\"medical_abstracts\"][i]:\n",
    "        if j not in s and j != \"\\n\" and j != \"\" and j != \"-\":\n",
    "            descMedicaRelevante.append(j)\n",
    "    data_set_texto[\"medical_abstracts\"][i] = descMedicaRelevante"
   ]
  },
  {
   "cell_type": "code",
   "execution_count": 15,
   "id": "2b1854d5",
   "metadata": {},
   "outputs": [
    {
     "data": {
      "image/png": "[encoded data removed]",
      "text/plain": [
       "<Figure size 1080x1080 with 1 Axes>"
      ]
     },
     "metadata": {
      "needs_background": "light"
     },
     "output_type": "display_data"
    },
    {
     "data": {
      "text/plain": [
       "<AxesSubplot:xlabel='Samples', ylabel='Counts'>"
      ]
     },
     "execution_count": 15,
     "metadata": {},
     "output_type": "execute_result"
    }
   ],
   "source": [
    "# Se presenta un grafico con las palabras más comunes en todos los textos\n",
    "frequency_dist = nltk.FreqDist(list(chain.from_iterable(data_set_texto[\"medical_abstracts\"].values)))\n",
    "plt.figure(figsize=(15,15))\n",
    "frequency_dist.plot(60,cumulative=False)"
   ]
  },
  {
   "cell_type": "code",
   "execution_count": 16,
   "id": "3d8057c8",
   "metadata": {},
   "outputs": [
    {
     "data": {
      "text/plain": [
       "1299229"
      ]
     },
     "execution_count": 16,
     "metadata": {},
     "output_type": "execute_result"
    }
   ],
   "source": [
    "# Se presenta un conteo de la cantidad de valores diferentes que hay\n",
    "len(list(chain.from_iterable(data_set_texto[\"medical_abstracts\"].values))) "
   ]
  },
  {
   "cell_type": "code",
   "execution_count": 17,
   "id": "ab94fb07",
   "metadata": {},
   "outputs": [
    {
     "data": {
      "text/html": [
       "<div>\n",
       "<style scoped>\n",
       "    .dataframe tbody tr th:only-of-type {\n",
       "        vertical-align: middle;\n",
       "    }\n",
       "\n",
       "    .dataframe tbody tr th {\n",
       "        vertical-align: top;\n",
       "    }\n",
       "\n",
       "    .dataframe thead th {\n",
       "        text-align: right;\n",
       "    }\n",
       "</style>\n",
       "<table border=\"1\" class=\"dataframe\">\n",
       "  <thead>\n",
       "    <tr style=\"text-align: right;\">\n",
       "      <th></th>\n",
       "      <th>medical_abstracts</th>\n",
       "      <th>problems_described</th>\n",
       "    </tr>\n",
       "  </thead>\n",
       "  <tbody>\n",
       "    <tr>\n",
       "      <th>0</th>\n",
       "      <td>cell lineage markers human pancreatic cancer n...</td>\n",
       "      <td>1</td>\n",
       "    </tr>\n",
       "    <tr>\n",
       "      <th>1</th>\n",
       "      <td>fatal pulmonary venoocclusive disease secondar...</td>\n",
       "      <td>5</td>\n",
       "    </tr>\n",
       "    <tr>\n",
       "      <th>2</th>\n",
       "      <td>high survival rate advanced-stage b-cell lymph...</td>\n",
       "      <td>5</td>\n",
       "    </tr>\n",
       "    <tr>\n",
       "      <th>3</th>\n",
       "      <td>intracranial chordoma preadolescent case repor...</td>\n",
       "      <td>1</td>\n",
       "    </tr>\n",
       "    <tr>\n",
       "      <th>4</th>\n",
       "      <td>analysis prognostic factors clinicopathologica...</td>\n",
       "      <td>3</td>\n",
       "    </tr>\n",
       "  </tbody>\n",
       "</table>\n",
       "</div>"
      ],
      "text/plain": [
       "                                   medical_abstracts  problems_described\n",
       "0  cell lineage markers human pancreatic cancer n...                   1\n",
       "1  fatal pulmonary venoocclusive disease secondar...                   5\n",
       "2  high survival rate advanced-stage b-cell lymph...                   5\n",
       "3  intracranial chordoma preadolescent case repor...                   1\n",
       "4  analysis prognostic factors clinicopathologica...                   3"
      ]
     },
     "execution_count": 17,
     "metadata": {},
     "output_type": "execute_result"
    }
   ],
   "source": [
    "# Se convierte el arreglo a texto para poder realizar el analisis esperado\n",
    "text=data_set_texto[\"medical_abstracts\"].apply(lambda d: ' '.join(d)).copy()\n",
    "data_set_texto[\"medical_abstracts\"] = text\n",
    "data_set_texto.head()"
   ]
  },
  {
   "cell_type": "markdown",
   "id": "cf43b448",
   "metadata": {},
   "source": [
    "## Modelamiento y Evaluacion"
   ]
  },
  {
   "cell_type": "code",
   "execution_count": 18,
   "id": "1b3c8e75",
   "metadata": {},
   "outputs": [],
   "source": [
    "# Se vectorizan los datos de texto\n",
    "tfidf_text=TfidfVectorizer(max_features=20000).fit(text)"
   ]
  },
  {
   "cell_type": "code",
   "execution_count": 19,
   "id": "8ccfb986",
   "metadata": {},
   "outputs": [],
   "source": [
    "# Se vectorizan los valores en la columna medical abstract para hacer el modelamiento\n",
    "df_model = data_set_texto\n",
    "X_text=tfidf_text.transform(df_model[\"medical_abstracts\"])"
   ]
  },
  {
   "cell_type": "markdown",
   "id": "3665495d",
   "metadata": {},
   "source": [
    "### Random Forest Classifier"
   ]
  },
  {
   "cell_type": "code",
   "execution_count": 20,
   "id": "e4cc71e1",
   "metadata": {},
   "outputs": [],
   "source": [
    "# Se definen los parametros a usar en el modelo de random forest\n",
    "parameters={'criterion':[\"gini\",\"entropy\"],'n_estimators':[50,100,150]}"
   ]
  },
  {
   "cell_type": "code",
   "execution_count": 21,
   "id": "f5b1fb6a",
   "metadata": {},
   "outputs": [],
   "source": [
    "# Se implementa el modelo random forest\n",
    "RFC=RandomForestClassifier(n_jobs=-1)"
   ]
  },
  {
   "cell_type": "code",
   "execution_count": 22,
   "id": "f28454c3",
   "metadata": {},
   "outputs": [],
   "source": [
    "# Se genera el modelo\n",
    "RFC_best=GridSearchCV(RFC,parameters).fit(X_text,df_model[\"problems_described\"].values).best_estimator_"
   ]
  },
  {
   "cell_type": "code",
   "execution_count": 23,
   "id": "6568414e",
   "metadata": {},
   "outputs": [
    {
     "name": "stdout",
     "output_type": "stream",
     "text": [
      "              precision    recall  f1-score   support\n",
      "\n",
      "           1       0.84      0.90      0.87      2629\n",
      "           2       0.79      0.72      0.76      1242\n",
      "           3       0.82      0.76      0.79      1600\n",
      "           4       0.82      0.89      0.85      2536\n",
      "           5       0.79      0.76      0.78      3993\n",
      "\n",
      "    accuracy                           0.81     12000\n",
      "   macro avg       0.81      0.81      0.81     12000\n",
      "weighted avg       0.81      0.81      0.81     12000\n",
      "\n"
     ]
    }
   ],
   "source": [
    "# Se imprime el reporte con las predicciones por cada uno de los problemas\n",
    "print(classification_report(df_model[\"problems_described\"].values, RFC_best.predict(X_text), labels=[1, 2, 3, 4, 5]))"
   ]
  },
  {
   "cell_type": "markdown",
   "id": "99f40f08",
   "metadata": {},
   "source": [
    "### Árbol de decisión (DecissionTreeClassifier)"
   ]
  },
  {
   "cell_type": "markdown",
   "id": "8fba367f",
   "metadata": {},
   "source": [
    "#### Datos proporcionados"
   ]
  },
  {
   "cell_type": "code",
   "execution_count": 24,
   "id": "99fc316f",
   "metadata": {},
   "outputs": [
    {
     "name": "stderr",
     "output_type": "stream",
     "text": [
      "C:\\Users\\User\\anaconda3\\lib\\site-packages\\sklearn\\utils\\deprecation.py:87: FutureWarning: Function get_feature_names is deprecated; get_feature_names is deprecated in 1.0 and will be removed in 1.2. Please use get_feature_names_out instead.\n",
      "  warnings.warn(msg, category=FutureWarning)\n"
     ]
    }
   ],
   "source": [
    "CV = CountVectorizer(stop_words='english')\n",
    "data_matrix = CV.fit_transform(df_model[\"medical_abstracts\"])\n",
    "nombres_columnas = CV.get_feature_names() # palabras"
   ]
  },
  {
   "cell_type": "code",
   "execution_count": 25,
   "id": "69d90c0e",
   "metadata": {},
   "outputs": [
    {
     "data": {
      "text/html": [
       "<div>\n",
       "<style scoped>\n",
       "    .dataframe tbody tr th:only-of-type {\n",
       "        vertical-align: middle;\n",
       "    }\n",
       "\n",
       "    .dataframe tbody tr th {\n",
       "        vertical-align: top;\n",
       "    }\n",
       "\n",
       "    .dataframe thead th {\n",
       "        text-align: right;\n",
       "    }\n",
       "</style>\n",
       "<table border=\"1\" class=\"dataframe\">\n",
       "  <thead>\n",
       "    <tr style=\"text-align: right;\">\n",
       "      <th></th>\n",
       "      <th>aa</th>\n",
       "      <th>aaa</th>\n",
       "      <th>aab</th>\n",
       "      <th>aaem</th>\n",
       "      <th>aag</th>\n",
       "      <th>aah</th>\n",
       "      <th>aai</th>\n",
       "      <th>aapo</th>\n",
       "      <th>aaron</th>\n",
       "      <th>aas</th>\n",
       "      <th>...</th>\n",
       "      <th>zygosity</th>\n",
       "      <th>zyloric</th>\n",
       "      <th>zymodeme</th>\n",
       "      <th>zymodemes</th>\n",
       "      <th>zymogen</th>\n",
       "      <th>zymogens</th>\n",
       "      <th>zymograms</th>\n",
       "      <th>zymography</th>\n",
       "      <th>zymosan</th>\n",
       "      <th>zzygos</th>\n",
       "    </tr>\n",
       "  </thead>\n",
       "  <tbody>\n",
       "    <tr>\n",
       "      <th>0</th>\n",
       "      <td>0</td>\n",
       "      <td>0</td>\n",
       "      <td>0</td>\n",
       "      <td>0</td>\n",
       "      <td>0</td>\n",
       "      <td>0</td>\n",
       "      <td>0</td>\n",
       "      <td>0</td>\n",
       "      <td>0</td>\n",
       "      <td>0</td>\n",
       "      <td>...</td>\n",
       "      <td>0</td>\n",
       "      <td>0</td>\n",
       "      <td>0</td>\n",
       "      <td>0</td>\n",
       "      <td>0</td>\n",
       "      <td>0</td>\n",
       "      <td>0</td>\n",
       "      <td>0</td>\n",
       "      <td>0</td>\n",
       "      <td>0</td>\n",
       "    </tr>\n",
       "    <tr>\n",
       "      <th>1</th>\n",
       "      <td>0</td>\n",
       "      <td>0</td>\n",
       "      <td>0</td>\n",
       "      <td>0</td>\n",
       "      <td>0</td>\n",
       "      <td>0</td>\n",
       "      <td>0</td>\n",
       "      <td>0</td>\n",
       "      <td>0</td>\n",
       "      <td>0</td>\n",
       "      <td>...</td>\n",
       "      <td>0</td>\n",
       "      <td>0</td>\n",
       "      <td>0</td>\n",
       "      <td>0</td>\n",
       "      <td>0</td>\n",
       "      <td>0</td>\n",
       "      <td>0</td>\n",
       "      <td>0</td>\n",
       "      <td>0</td>\n",
       "      <td>0</td>\n",
       "    </tr>\n",
       "    <tr>\n",
       "      <th>2</th>\n",
       "      <td>0</td>\n",
       "      <td>0</td>\n",
       "      <td>0</td>\n",
       "      <td>0</td>\n",
       "      <td>0</td>\n",
       "      <td>0</td>\n",
       "      <td>0</td>\n",
       "      <td>0</td>\n",
       "      <td>0</td>\n",
       "      <td>0</td>\n",
       "      <td>...</td>\n",
       "      <td>0</td>\n",
       "      <td>0</td>\n",
       "      <td>0</td>\n",
       "      <td>0</td>\n",
       "      <td>0</td>\n",
       "      <td>0</td>\n",
       "      <td>0</td>\n",
       "      <td>0</td>\n",
       "      <td>0</td>\n",
       "      <td>0</td>\n",
       "    </tr>\n",
       "    <tr>\n",
       "      <th>3</th>\n",
       "      <td>0</td>\n",
       "      <td>0</td>\n",
       "      <td>0</td>\n",
       "      <td>0</td>\n",
       "      <td>0</td>\n",
       "      <td>0</td>\n",
       "      <td>0</td>\n",
       "      <td>0</td>\n",
       "      <td>0</td>\n",
       "      <td>0</td>\n",
       "      <td>...</td>\n",
       "      <td>0</td>\n",
       "      <td>0</td>\n",
       "      <td>0</td>\n",
       "      <td>0</td>\n",
       "      <td>0</td>\n",
       "      <td>0</td>\n",
       "      <td>0</td>\n",
       "      <td>0</td>\n",
       "      <td>0</td>\n",
       "      <td>0</td>\n",
       "    </tr>\n",
       "    <tr>\n",
       "      <th>4</th>\n",
       "      <td>0</td>\n",
       "      <td>0</td>\n",
       "      <td>0</td>\n",
       "      <td>0</td>\n",
       "      <td>0</td>\n",
       "      <td>0</td>\n",
       "      <td>0</td>\n",
       "      <td>0</td>\n",
       "      <td>0</td>\n",
       "      <td>0</td>\n",
       "      <td>...</td>\n",
       "      <td>0</td>\n",
       "      <td>0</td>\n",
       "      <td>0</td>\n",
       "      <td>0</td>\n",
       "      <td>0</td>\n",
       "      <td>0</td>\n",
       "      <td>0</td>\n",
       "      <td>0</td>\n",
       "      <td>0</td>\n",
       "      <td>0</td>\n",
       "    </tr>\n",
       "  </tbody>\n",
       "</table>\n",
       "<p>5 rows × 32919 columns</p>\n",
       "</div>"
      ],
      "text/plain": [
       "   aa  aaa  aab  aaem  aag  aah  aai  aapo  aaron  aas  ...  zygosity  \\\n",
       "0   0    0    0     0    0    0    0     0      0    0  ...         0   \n",
       "1   0    0    0     0    0    0    0     0      0    0  ...         0   \n",
       "2   0    0    0     0    0    0    0     0      0    0  ...         0   \n",
       "3   0    0    0     0    0    0    0     0      0    0  ...         0   \n",
       "4   0    0    0     0    0    0    0     0      0    0  ...         0   \n",
       "\n",
       "   zyloric  zymodeme  zymodemes  zymogen  zymogens  zymograms  zymography  \\\n",
       "0        0         0          0        0         0          0           0   \n",
       "1        0         0          0        0         0          0           0   \n",
       "2        0         0          0        0         0          0           0   \n",
       "3        0         0          0        0         0          0           0   \n",
       "4        0         0          0        0         0          0           0   \n",
       "\n",
       "   zymosan  zzygos  \n",
       "0        0       0  \n",
       "1        0       0  \n",
       "2        0       0  \n",
       "3        0       0  \n",
       "4        0       0  \n",
       "\n",
       "[5 rows x 32919 columns]"
      ]
     },
     "execution_count": 25,
     "metadata": {},
     "output_type": "execute_result"
    }
   ],
   "source": [
    "# Crear dataset con la matriz y los nombres de columnas\n",
    "data_set_arbol = pd.DataFrame(data_matrix.toarray(),columns=nombres_columnas)\n",
    "data_set_arbol['label']=df_model[\"problems_described\"]\n",
    "data_set_arbol.head()"
   ]
  },
  {
   "cell_type": "markdown",
   "id": "c8611e3e",
   "metadata": {},
   "source": [
    "#### Verificación de la tabla de datos"
   ]
  },
  {
   "cell_type": "code",
   "execution_count": 26,
   "id": "7e0e7bdc",
   "metadata": {},
   "outputs": [
    {
     "data": {
      "text/html": [
       "<div>\n",
       "<style scoped>\n",
       "    .dataframe tbody tr th:only-of-type {\n",
       "        vertical-align: middle;\n",
       "    }\n",
       "\n",
       "    .dataframe tbody tr th {\n",
       "        vertical-align: top;\n",
       "    }\n",
       "\n",
       "    .dataframe thead th {\n",
       "        text-align: right;\n",
       "    }\n",
       "</style>\n",
       "<table border=\"1\" class=\"dataframe\">\n",
       "  <thead>\n",
       "    <tr style=\"text-align: right;\">\n",
       "      <th></th>\n",
       "      <th>aa</th>\n",
       "      <th>aaa</th>\n",
       "      <th>aab</th>\n",
       "      <th>aaem</th>\n",
       "      <th>aag</th>\n",
       "      <th>aah</th>\n",
       "      <th>aai</th>\n",
       "      <th>aapo</th>\n",
       "      <th>aaron</th>\n",
       "      <th>aas</th>\n",
       "      <th>...</th>\n",
       "      <th>zygosity</th>\n",
       "      <th>zyloric</th>\n",
       "      <th>zymodeme</th>\n",
       "      <th>zymodemes</th>\n",
       "      <th>zymogen</th>\n",
       "      <th>zymogens</th>\n",
       "      <th>zymograms</th>\n",
       "      <th>zymography</th>\n",
       "      <th>zymosan</th>\n",
       "      <th>zzygos</th>\n",
       "    </tr>\n",
       "  </thead>\n",
       "  <tbody>\n",
       "    <tr>\n",
       "      <th>0</th>\n",
       "      <td>0</td>\n",
       "      <td>0</td>\n",
       "      <td>0</td>\n",
       "      <td>0</td>\n",
       "      <td>0</td>\n",
       "      <td>0</td>\n",
       "      <td>0</td>\n",
       "      <td>0</td>\n",
       "      <td>0</td>\n",
       "      <td>0</td>\n",
       "      <td>...</td>\n",
       "      <td>0</td>\n",
       "      <td>0</td>\n",
       "      <td>0</td>\n",
       "      <td>0</td>\n",
       "      <td>0</td>\n",
       "      <td>0</td>\n",
       "      <td>0</td>\n",
       "      <td>0</td>\n",
       "      <td>0</td>\n",
       "      <td>0</td>\n",
       "    </tr>\n",
       "    <tr>\n",
       "      <th>1</th>\n",
       "      <td>0</td>\n",
       "      <td>0</td>\n",
       "      <td>0</td>\n",
       "      <td>0</td>\n",
       "      <td>0</td>\n",
       "      <td>0</td>\n",
       "      <td>0</td>\n",
       "      <td>0</td>\n",
       "      <td>0</td>\n",
       "      <td>0</td>\n",
       "      <td>...</td>\n",
       "      <td>0</td>\n",
       "      <td>0</td>\n",
       "      <td>0</td>\n",
       "      <td>0</td>\n",
       "      <td>0</td>\n",
       "      <td>0</td>\n",
       "      <td>0</td>\n",
       "      <td>0</td>\n",
       "      <td>0</td>\n",
       "      <td>0</td>\n",
       "    </tr>\n",
       "    <tr>\n",
       "      <th>2</th>\n",
       "      <td>0</td>\n",
       "      <td>0</td>\n",
       "      <td>0</td>\n",
       "      <td>0</td>\n",
       "      <td>0</td>\n",
       "      <td>0</td>\n",
       "      <td>0</td>\n",
       "      <td>0</td>\n",
       "      <td>0</td>\n",
       "      <td>0</td>\n",
       "      <td>...</td>\n",
       "      <td>0</td>\n",
       "      <td>0</td>\n",
       "      <td>0</td>\n",
       "      <td>0</td>\n",
       "      <td>0</td>\n",
       "      <td>0</td>\n",
       "      <td>0</td>\n",
       "      <td>0</td>\n",
       "      <td>0</td>\n",
       "      <td>0</td>\n",
       "    </tr>\n",
       "    <tr>\n",
       "      <th>3</th>\n",
       "      <td>0</td>\n",
       "      <td>0</td>\n",
       "      <td>0</td>\n",
       "      <td>0</td>\n",
       "      <td>0</td>\n",
       "      <td>0</td>\n",
       "      <td>0</td>\n",
       "      <td>0</td>\n",
       "      <td>0</td>\n",
       "      <td>0</td>\n",
       "      <td>...</td>\n",
       "      <td>0</td>\n",
       "      <td>0</td>\n",
       "      <td>0</td>\n",
       "      <td>0</td>\n",
       "      <td>0</td>\n",
       "      <td>0</td>\n",
       "      <td>0</td>\n",
       "      <td>0</td>\n",
       "      <td>0</td>\n",
       "      <td>0</td>\n",
       "    </tr>\n",
       "    <tr>\n",
       "      <th>4</th>\n",
       "      <td>0</td>\n",
       "      <td>0</td>\n",
       "      <td>0</td>\n",
       "      <td>0</td>\n",
       "      <td>0</td>\n",
       "      <td>0</td>\n",
       "      <td>0</td>\n",
       "      <td>0</td>\n",
       "      <td>0</td>\n",
       "      <td>0</td>\n",
       "      <td>...</td>\n",
       "      <td>0</td>\n",
       "      <td>0</td>\n",
       "      <td>0</td>\n",
       "      <td>0</td>\n",
       "      <td>0</td>\n",
       "      <td>0</td>\n",
       "      <td>0</td>\n",
       "      <td>0</td>\n",
       "      <td>0</td>\n",
       "      <td>0</td>\n",
       "    </tr>\n",
       "    <tr>\n",
       "      <th>...</th>\n",
       "      <td>...</td>\n",
       "      <td>...</td>\n",
       "      <td>...</td>\n",
       "      <td>...</td>\n",
       "      <td>...</td>\n",
       "      <td>...</td>\n",
       "      <td>...</td>\n",
       "      <td>...</td>\n",
       "      <td>...</td>\n",
       "      <td>...</td>\n",
       "      <td>...</td>\n",
       "      <td>...</td>\n",
       "      <td>...</td>\n",
       "      <td>...</td>\n",
       "      <td>...</td>\n",
       "      <td>...</td>\n",
       "      <td>...</td>\n",
       "      <td>...</td>\n",
       "      <td>...</td>\n",
       "      <td>...</td>\n",
       "      <td>...</td>\n",
       "    </tr>\n",
       "    <tr>\n",
       "      <th>11995</th>\n",
       "      <td>0</td>\n",
       "      <td>0</td>\n",
       "      <td>0</td>\n",
       "      <td>0</td>\n",
       "      <td>0</td>\n",
       "      <td>0</td>\n",
       "      <td>0</td>\n",
       "      <td>0</td>\n",
       "      <td>0</td>\n",
       "      <td>0</td>\n",
       "      <td>...</td>\n",
       "      <td>0</td>\n",
       "      <td>0</td>\n",
       "      <td>0</td>\n",
       "      <td>0</td>\n",
       "      <td>0</td>\n",
       "      <td>0</td>\n",
       "      <td>0</td>\n",
       "      <td>0</td>\n",
       "      <td>0</td>\n",
       "      <td>0</td>\n",
       "    </tr>\n",
       "    <tr>\n",
       "      <th>11996</th>\n",
       "      <td>0</td>\n",
       "      <td>0</td>\n",
       "      <td>0</td>\n",
       "      <td>0</td>\n",
       "      <td>0</td>\n",
       "      <td>0</td>\n",
       "      <td>0</td>\n",
       "      <td>0</td>\n",
       "      <td>0</td>\n",
       "      <td>0</td>\n",
       "      <td>...</td>\n",
       "      <td>0</td>\n",
       "      <td>0</td>\n",
       "      <td>0</td>\n",
       "      <td>0</td>\n",
       "      <td>0</td>\n",
       "      <td>0</td>\n",
       "      <td>0</td>\n",
       "      <td>0</td>\n",
       "      <td>0</td>\n",
       "      <td>0</td>\n",
       "    </tr>\n",
       "    <tr>\n",
       "      <th>11997</th>\n",
       "      <td>0</td>\n",
       "      <td>0</td>\n",
       "      <td>0</td>\n",
       "      <td>0</td>\n",
       "      <td>0</td>\n",
       "      <td>0</td>\n",
       "      <td>0</td>\n",
       "      <td>0</td>\n",
       "      <td>0</td>\n",
       "      <td>0</td>\n",
       "      <td>...</td>\n",
       "      <td>0</td>\n",
       "      <td>0</td>\n",
       "      <td>0</td>\n",
       "      <td>0</td>\n",
       "      <td>0</td>\n",
       "      <td>0</td>\n",
       "      <td>0</td>\n",
       "      <td>0</td>\n",
       "      <td>0</td>\n",
       "      <td>0</td>\n",
       "    </tr>\n",
       "    <tr>\n",
       "      <th>11998</th>\n",
       "      <td>0</td>\n",
       "      <td>0</td>\n",
       "      <td>0</td>\n",
       "      <td>0</td>\n",
       "      <td>0</td>\n",
       "      <td>0</td>\n",
       "      <td>0</td>\n",
       "      <td>0</td>\n",
       "      <td>0</td>\n",
       "      <td>0</td>\n",
       "      <td>...</td>\n",
       "      <td>0</td>\n",
       "      <td>0</td>\n",
       "      <td>0</td>\n",
       "      <td>0</td>\n",
       "      <td>0</td>\n",
       "      <td>0</td>\n",
       "      <td>0</td>\n",
       "      <td>0</td>\n",
       "      <td>0</td>\n",
       "      <td>0</td>\n",
       "    </tr>\n",
       "    <tr>\n",
       "      <th>11999</th>\n",
       "      <td>0</td>\n",
       "      <td>0</td>\n",
       "      <td>0</td>\n",
       "      <td>0</td>\n",
       "      <td>0</td>\n",
       "      <td>0</td>\n",
       "      <td>0</td>\n",
       "      <td>0</td>\n",
       "      <td>0</td>\n",
       "      <td>0</td>\n",
       "      <td>...</td>\n",
       "      <td>0</td>\n",
       "      <td>0</td>\n",
       "      <td>0</td>\n",
       "      <td>0</td>\n",
       "      <td>0</td>\n",
       "      <td>0</td>\n",
       "      <td>0</td>\n",
       "      <td>0</td>\n",
       "      <td>0</td>\n",
       "      <td>0</td>\n",
       "    </tr>\n",
       "  </tbody>\n",
       "</table>\n",
       "<p>12000 rows × 32919 columns</p>\n",
       "</div>"
      ],
      "text/plain": [
       "       aa  aaa  aab  aaem  aag  aah  aai  aapo  aaron  aas  ...  zygosity  \\\n",
       "0       0    0    0     0    0    0    0     0      0    0  ...         0   \n",
       "1       0    0    0     0    0    0    0     0      0    0  ...         0   \n",
       "2       0    0    0     0    0    0    0     0      0    0  ...         0   \n",
       "3       0    0    0     0    0    0    0     0      0    0  ...         0   \n",
       "4       0    0    0     0    0    0    0     0      0    0  ...         0   \n",
       "...    ..  ...  ...   ...  ...  ...  ...   ...    ...  ...  ...       ...   \n",
       "11995   0    0    0     0    0    0    0     0      0    0  ...         0   \n",
       "11996   0    0    0     0    0    0    0     0      0    0  ...         0   \n",
       "11997   0    0    0     0    0    0    0     0      0    0  ...         0   \n",
       "11998   0    0    0     0    0    0    0     0      0    0  ...         0   \n",
       "11999   0    0    0     0    0    0    0     0      0    0  ...         0   \n",
       "\n",
       "       zyloric  zymodeme  zymodemes  zymogen  zymogens  zymograms  zymography  \\\n",
       "0            0         0          0        0         0          0           0   \n",
       "1            0         0          0        0         0          0           0   \n",
       "2            0         0          0        0         0          0           0   \n",
       "3            0         0          0        0         0          0           0   \n",
       "4            0         0          0        0         0          0           0   \n",
       "...        ...       ...        ...      ...       ...        ...         ...   \n",
       "11995        0         0          0        0         0          0           0   \n",
       "11996        0         0          0        0         0          0           0   \n",
       "11997        0         0          0        0         0          0           0   \n",
       "11998        0         0          0        0         0          0           0   \n",
       "11999        0         0          0        0         0          0           0   \n",
       "\n",
       "       zymosan  zzygos  \n",
       "0            0       0  \n",
       "1            0       0  \n",
       "2            0       0  \n",
       "3            0       0  \n",
       "4            0       0  \n",
       "...        ...     ...  \n",
       "11995        0       0  \n",
       "11996        0       0  \n",
       "11997        0       0  \n",
       "11998        0       0  \n",
       "11999        0       0  \n",
       "\n",
       "[12000 rows x 32919 columns]"
      ]
     },
     "execution_count": 26,
     "metadata": {},
     "output_type": "execute_result"
    }
   ],
   "source": [
    "data_set_arbol"
   ]
  },
  {
   "cell_type": "code",
   "execution_count": 27,
   "id": "d12af061",
   "metadata": {},
   "outputs": [
    {
     "data": {
      "text/html": [
       "<div>\n",
       "<style scoped>\n",
       "    .dataframe tbody tr th:only-of-type {\n",
       "        vertical-align: middle;\n",
       "    }\n",
       "\n",
       "    .dataframe tbody tr th {\n",
       "        vertical-align: top;\n",
       "    }\n",
       "\n",
       "    .dataframe thead th {\n",
       "        text-align: right;\n",
       "    }\n",
       "</style>\n",
       "<table border=\"1\" class=\"dataframe\">\n",
       "  <thead>\n",
       "    <tr style=\"text-align: right;\">\n",
       "      <th></th>\n",
       "      <th>aa</th>\n",
       "      <th>aaa</th>\n",
       "      <th>aab</th>\n",
       "      <th>aaem</th>\n",
       "      <th>aag</th>\n",
       "      <th>aah</th>\n",
       "      <th>aai</th>\n",
       "      <th>aapo</th>\n",
       "      <th>aaron</th>\n",
       "      <th>aas</th>\n",
       "      <th>...</th>\n",
       "      <th>zygosity</th>\n",
       "      <th>zyloric</th>\n",
       "      <th>zymodeme</th>\n",
       "      <th>zymodemes</th>\n",
       "      <th>zymogen</th>\n",
       "      <th>zymogens</th>\n",
       "      <th>zymograms</th>\n",
       "      <th>zymography</th>\n",
       "      <th>zymosan</th>\n",
       "      <th>zzygos</th>\n",
       "    </tr>\n",
       "  </thead>\n",
       "  <tbody>\n",
       "    <tr>\n",
       "      <th>count</th>\n",
       "      <td>12000.000000</td>\n",
       "      <td>12000.000000</td>\n",
       "      <td>12000.000000</td>\n",
       "      <td>12000.00000</td>\n",
       "      <td>12000.000000</td>\n",
       "      <td>12000.000000</td>\n",
       "      <td>12000.000000</td>\n",
       "      <td>12000.000000</td>\n",
       "      <td>12000.000000</td>\n",
       "      <td>12000.000000</td>\n",
       "      <td>...</td>\n",
       "      <td>12000.00000</td>\n",
       "      <td>12000.000000</td>\n",
       "      <td>12000.000000</td>\n",
       "      <td>12000.000000</td>\n",
       "      <td>12000.000000</td>\n",
       "      <td>12000.000000</td>\n",
       "      <td>12000.000000</td>\n",
       "      <td>12000.000000</td>\n",
       "      <td>12000.000000</td>\n",
       "      <td>12000.000000</td>\n",
       "    </tr>\n",
       "    <tr>\n",
       "      <th>mean</th>\n",
       "      <td>0.002167</td>\n",
       "      <td>0.001500</td>\n",
       "      <td>0.000583</td>\n",
       "      <td>0.00025</td>\n",
       "      <td>0.000167</td>\n",
       "      <td>0.000167</td>\n",
       "      <td>0.001000</td>\n",
       "      <td>0.000083</td>\n",
       "      <td>0.000083</td>\n",
       "      <td>0.000167</td>\n",
       "      <td>...</td>\n",
       "      <td>0.00025</td>\n",
       "      <td>0.000083</td>\n",
       "      <td>0.000083</td>\n",
       "      <td>0.000250</td>\n",
       "      <td>0.001333</td>\n",
       "      <td>0.000167</td>\n",
       "      <td>0.000167</td>\n",
       "      <td>0.000083</td>\n",
       "      <td>0.001000</td>\n",
       "      <td>0.000167</td>\n",
       "    </tr>\n",
       "    <tr>\n",
       "      <th>std</th>\n",
       "      <td>0.077433</td>\n",
       "      <td>0.099993</td>\n",
       "      <td>0.063901</td>\n",
       "      <td>0.01581</td>\n",
       "      <td>0.018257</td>\n",
       "      <td>0.018257</td>\n",
       "      <td>0.061908</td>\n",
       "      <td>0.009129</td>\n",
       "      <td>0.009129</td>\n",
       "      <td>0.012909</td>\n",
       "      <td>...</td>\n",
       "      <td>0.01581</td>\n",
       "      <td>0.009129</td>\n",
       "      <td>0.009129</td>\n",
       "      <td>0.027386</td>\n",
       "      <td>0.046530</td>\n",
       "      <td>0.018257</td>\n",
       "      <td>0.012909</td>\n",
       "      <td>0.009129</td>\n",
       "      <td>0.040814</td>\n",
       "      <td>0.012909</td>\n",
       "    </tr>\n",
       "    <tr>\n",
       "      <th>min</th>\n",
       "      <td>0.000000</td>\n",
       "      <td>0.000000</td>\n",
       "      <td>0.000000</td>\n",
       "      <td>0.00000</td>\n",
       "      <td>0.000000</td>\n",
       "      <td>0.000000</td>\n",
       "      <td>0.000000</td>\n",
       "      <td>0.000000</td>\n",
       "      <td>0.000000</td>\n",
       "      <td>0.000000</td>\n",
       "      <td>...</td>\n",
       "      <td>0.00000</td>\n",
       "      <td>0.000000</td>\n",
       "      <td>0.000000</td>\n",
       "      <td>0.000000</td>\n",
       "      <td>0.000000</td>\n",
       "      <td>0.000000</td>\n",
       "      <td>0.000000</td>\n",
       "      <td>0.000000</td>\n",
       "      <td>0.000000</td>\n",
       "      <td>0.000000</td>\n",
       "    </tr>\n",
       "    <tr>\n",
       "      <th>25%</th>\n",
       "      <td>0.000000</td>\n",
       "      <td>0.000000</td>\n",
       "      <td>0.000000</td>\n",
       "      <td>0.00000</td>\n",
       "      <td>0.000000</td>\n",
       "      <td>0.000000</td>\n",
       "      <td>0.000000</td>\n",
       "      <td>0.000000</td>\n",
       "      <td>0.000000</td>\n",
       "      <td>0.000000</td>\n",
       "      <td>...</td>\n",
       "      <td>0.00000</td>\n",
       "      <td>0.000000</td>\n",
       "      <td>0.000000</td>\n",
       "      <td>0.000000</td>\n",
       "      <td>0.000000</td>\n",
       "      <td>0.000000</td>\n",
       "      <td>0.000000</td>\n",
       "      <td>0.000000</td>\n",
       "      <td>0.000000</td>\n",
       "      <td>0.000000</td>\n",
       "    </tr>\n",
       "    <tr>\n",
       "      <th>50%</th>\n",
       "      <td>0.000000</td>\n",
       "      <td>0.000000</td>\n",
       "      <td>0.000000</td>\n",
       "      <td>0.00000</td>\n",
       "      <td>0.000000</td>\n",
       "      <td>0.000000</td>\n",
       "      <td>0.000000</td>\n",
       "      <td>0.000000</td>\n",
       "      <td>0.000000</td>\n",
       "      <td>0.000000</td>\n",
       "      <td>...</td>\n",
       "      <td>0.00000</td>\n",
       "      <td>0.000000</td>\n",
       "      <td>0.000000</td>\n",
       "      <td>0.000000</td>\n",
       "      <td>0.000000</td>\n",
       "      <td>0.000000</td>\n",
       "      <td>0.000000</td>\n",
       "      <td>0.000000</td>\n",
       "      <td>0.000000</td>\n",
       "      <td>0.000000</td>\n",
       "    </tr>\n",
       "    <tr>\n",
       "      <th>75%</th>\n",
       "      <td>0.000000</td>\n",
       "      <td>0.000000</td>\n",
       "      <td>0.000000</td>\n",
       "      <td>0.00000</td>\n",
       "      <td>0.000000</td>\n",
       "      <td>0.000000</td>\n",
       "      <td>0.000000</td>\n",
       "      <td>0.000000</td>\n",
       "      <td>0.000000</td>\n",
       "      <td>0.000000</td>\n",
       "      <td>...</td>\n",
       "      <td>0.00000</td>\n",
       "      <td>0.000000</td>\n",
       "      <td>0.000000</td>\n",
       "      <td>0.000000</td>\n",
       "      <td>0.000000</td>\n",
       "      <td>0.000000</td>\n",
       "      <td>0.000000</td>\n",
       "      <td>0.000000</td>\n",
       "      <td>0.000000</td>\n",
       "      <td>0.000000</td>\n",
       "    </tr>\n",
       "    <tr>\n",
       "      <th>max</th>\n",
       "      <td>4.000000</td>\n",
       "      <td>9.000000</td>\n",
       "      <td>7.000000</td>\n",
       "      <td>1.00000</td>\n",
       "      <td>2.000000</td>\n",
       "      <td>2.000000</td>\n",
       "      <td>6.000000</td>\n",
       "      <td>1.000000</td>\n",
       "      <td>1.000000</td>\n",
       "      <td>1.000000</td>\n",
       "      <td>...</td>\n",
       "      <td>1.00000</td>\n",
       "      <td>1.000000</td>\n",
       "      <td>1.000000</td>\n",
       "      <td>3.000000</td>\n",
       "      <td>2.000000</td>\n",
       "      <td>2.000000</td>\n",
       "      <td>1.000000</td>\n",
       "      <td>1.000000</td>\n",
       "      <td>3.000000</td>\n",
       "      <td>1.000000</td>\n",
       "    </tr>\n",
       "  </tbody>\n",
       "</table>\n",
       "<p>8 rows × 32919 columns</p>\n",
       "</div>"
      ],
      "text/plain": [
       "                 aa           aaa           aab         aaem           aag  \\\n",
       "count  12000.000000  12000.000000  12000.000000  12000.00000  12000.000000   \n",
       "mean       0.002167      0.001500      0.000583      0.00025      0.000167   \n",
       "std        0.077433      0.099993      0.063901      0.01581      0.018257   \n",
       "min        0.000000      0.000000      0.000000      0.00000      0.000000   \n",
       "25%        0.000000      0.000000      0.000000      0.00000      0.000000   \n",
       "50%        0.000000      0.000000      0.000000      0.00000      0.000000   \n",
       "75%        0.000000      0.000000      0.000000      0.00000      0.000000   \n",
       "max        4.000000      9.000000      7.000000      1.00000      2.000000   \n",
       "\n",
       "                aah           aai          aapo         aaron           aas  \\\n",
       "count  12000.000000  12000.000000  12000.000000  12000.000000  12000.000000   \n",
       "mean       0.000167      0.001000      0.000083      0.000083      0.000167   \n",
       "std        0.018257      0.061908      0.009129      0.009129      0.012909   \n",
       "min        0.000000      0.000000      0.000000      0.000000      0.000000   \n",
       "25%        0.000000      0.000000      0.000000      0.000000      0.000000   \n",
       "50%        0.000000      0.000000      0.000000      0.000000      0.000000   \n",
       "75%        0.000000      0.000000      0.000000      0.000000      0.000000   \n",
       "max        2.000000      6.000000      1.000000      1.000000      1.000000   \n",
       "\n",
       "       ...     zygosity       zyloric      zymodeme     zymodemes  \\\n",
       "count  ...  12000.00000  12000.000000  12000.000000  12000.000000   \n",
       "mean   ...      0.00025      0.000083      0.000083      0.000250   \n",
       "std    ...      0.01581      0.009129      0.009129      0.027386   \n",
       "min    ...      0.00000      0.000000      0.000000      0.000000   \n",
       "25%    ...      0.00000      0.000000      0.000000      0.000000   \n",
       "50%    ...      0.00000      0.000000      0.000000      0.000000   \n",
       "75%    ...      0.00000      0.000000      0.000000      0.000000   \n",
       "max    ...      1.00000      1.000000      1.000000      3.000000   \n",
       "\n",
       "            zymogen      zymogens     zymograms    zymography       zymosan  \\\n",
       "count  12000.000000  12000.000000  12000.000000  12000.000000  12000.000000   \n",
       "mean       0.001333      0.000167      0.000167      0.000083      0.001000   \n",
       "std        0.046530      0.018257      0.012909      0.009129      0.040814   \n",
       "min        0.000000      0.000000      0.000000      0.000000      0.000000   \n",
       "25%        0.000000      0.000000      0.000000      0.000000      0.000000   \n",
       "50%        0.000000      0.000000      0.000000      0.000000      0.000000   \n",
       "75%        0.000000      0.000000      0.000000      0.000000      0.000000   \n",
       "max        2.000000      2.000000      1.000000      1.000000      3.000000   \n",
       "\n",
       "             zzygos  \n",
       "count  12000.000000  \n",
       "mean       0.000167  \n",
       "std        0.012909  \n",
       "min        0.000000  \n",
       "25%        0.000000  \n",
       "50%        0.000000  \n",
       "75%        0.000000  \n",
       "max        1.000000  \n",
       "\n",
       "[8 rows x 32919 columns]"
      ]
     },
     "execution_count": 27,
     "metadata": {},
     "output_type": "execute_result"
    }
   ],
   "source": [
    "data_set_arbol.describe()"
   ]
  },
  {
   "cell_type": "markdown",
   "id": "1f12a76c",
   "metadata": {},
   "source": [
    "### Modelo"
   ]
  },
  {
   "cell_type": "code",
   "execution_count": 28,
   "id": "951d608e",
   "metadata": {},
   "outputs": [],
   "source": [
    "# Se selecciona la variable objetivo\n",
    "Y = data_set_arbol['label']\n",
    "# Del conjunto de datos se elimina la variable target. En este caso, se realizaó el cambio de categoricos a numericos en el\n",
    "# modelamiento.\n",
    "X = data_set_arbol.drop(['label'], axis=1)"
   ]
  },
  {
   "cell_type": "code",
   "execution_count": 29,
   "id": "3a16e1c7",
   "metadata": {},
   "outputs": [],
   "source": [
    "# Dividir los datos en entrenamiento y test\n",
    "X_train, X_test, Y_train, Y_test = train_test_split(X, Y, test_size = 0.2, random_state = 0)"
   ]
  },
  {
   "cell_type": "code",
   "execution_count": 30,
   "id": "eed02c49",
   "metadata": {},
   "outputs": [
    {
     "data": {
      "text/plain": [
       "{'criterion': 'entropy', 'max_depth': 8, 'min_samples_split': 2}"
      ]
     },
     "execution_count": 30,
     "metadata": {},
     "output_type": "execute_result"
    }
   ],
   "source": [
    "# Se fija el número de particiones. Se usará K = 10. En este caso se deja comentado debido al inmenso tamaño de la tabla para \n",
    "# el arbol a crear.\n",
    "particiones = KFold(n_splits = 10, shuffle = True, random_state = 0)\n",
    "\n",
    "# Se establece el espacio de búsqueda para los hiperparámetros que deseamos ajustar. \n",
    "param_grid = {'criterion': ['gini', 'entropy'], 'max_depth': [4, 6, 8, 10, 20], 'min_samples_split': [2, 3, 4, 5]}\n",
    "\n",
    "# Definimos el modelo sin ningún valor de estos hiperparámetros\n",
    "arbol_inicial = DecisionTreeClassifier(random_state = 0)\n",
    "\n",
    "# Ahora utilizamos GridSearch sobre el grid definido y con 10 particiones en la validación cruzada. En este caso, para que no se\n",
    "# demore el algoritmo se elige un valor de las particiones de 5.\n",
    "mejor_modelo = GridSearchCV(arbol_inicial, param_grid, cv = particiones)\n",
    "\n",
    "# Ajuste del modelo\n",
    "mejor_modelo.fit(X_train, Y_train)\n",
    "\n",
    "# Podemos ver cuál fue el resultado de la búsqueda (mejores valores de hiperparámetros)\n",
    "mejor_modelo.best_params_"
   ]
  },
  {
   "cell_type": "code",
   "execution_count": 31,
   "id": "79207d9c",
   "metadata": {},
   "outputs": [],
   "source": [
    "# Obtener el mejor modelo.\n",
    "arbol = mejor_modelo.best_estimator_"
   ]
  },
  {
   "cell_type": "markdown",
   "id": "c75cd714",
   "metadata": {},
   "source": [
    "#### Evaluacion del árbol"
   ]
  },
  {
   "cell_type": "code",
   "execution_count": 32,
   "id": "08672db8",
   "metadata": {},
   "outputs": [
    {
     "name": "stdout",
     "output_type": "stream",
     "text": [
      "Exactitud sobre entrenamiento: 0.53\n",
      "Exactitud sobre test: 0.52\n"
     ]
    }
   ],
   "source": [
    "# Probemos ahora este modelo sobre test.\n",
    "y_pred_train = arbol.predict(X_train)\n",
    "y_pred_test = arbol.predict(X_test)\n",
    "print('Exactitud sobre entrenamiento: %.2f' % accuracy_score(Y_train, y_pred_train))\n",
    "print('Exactitud sobre test: %.2f' % accuracy_score(Y_test, y_pred_test))"
   ]
  },
  {
   "cell_type": "code",
   "execution_count": 33,
   "id": "cf8286e9",
   "metadata": {},
   "outputs": [
    {
     "name": "stdout",
     "output_type": "stream",
     "text": [
      "Datos de entrenamiento\n",
      "              precision    recall  f1-score   support\n",
      "\n",
      "           1       0.73      0.68      0.70      2076\n",
      "           2       0.53      0.04      0.08      1005\n",
      "           3       0.69      0.04      0.08      1272\n",
      "           4       0.70      0.59      0.64      2013\n",
      "           5       0.42      0.76      0.54      3234\n",
      "\n",
      "    accuracy                           0.53      9600\n",
      "   macro avg       0.61      0.42      0.41      9600\n",
      "weighted avg       0.59      0.53      0.49      9600\n",
      "\n"
     ]
    },
    {
     "name": "stderr",
     "output_type": "stream",
     "text": [
      "C:\\Users\\User\\anaconda3\\lib\\site-packages\\sklearn\\utils\\deprecation.py:87: FutureWarning: Function plot_confusion_matrix is deprecated; Function `plot_confusion_matrix` is deprecated in 1.0 and will be removed in 1.2. Use one of the class methods: ConfusionMatrixDisplay.from_predictions or ConfusionMatrixDisplay.from_estimator.\n",
      "  warnings.warn(msg, category=FutureWarning)\n"
     ]
    },
    {
     "data": {
      "image/png": "[encoded data removed]",
      "text/plain": [
       "<Figure size 432x288 with 2 Axes>"
      ]
     },
     "metadata": {
      "needs_background": "light"
     },
     "output_type": "display_data"
    }
   ],
   "source": [
    "# Se imprime el informe de rendimiento\n",
    "print(\"Datos de entrenamiento\")\n",
    "print(classification_report(Y_train, y_pred_train))\n",
    "# Se puede visualizar la matriz de confusión\n",
    "plot_confusion_matrix(arbol, X_train, Y_train)  \n",
    "plt.show()"
   ]
  },
  {
   "cell_type": "code",
   "execution_count": 34,
   "id": "407e4a9c",
   "metadata": {},
   "outputs": [
    {
     "name": "stdout",
     "output_type": "stream",
     "text": [
      "Datos de prueba\n",
      "              precision    recall  f1-score   support\n",
      "\n",
      "           1       0.71      0.67      0.69       553\n",
      "           2       0.40      0.03      0.06       237\n",
      "           3       0.35      0.02      0.04       328\n",
      "           4       0.71      0.56      0.63       523\n",
      "           5       0.40      0.75      0.52       759\n",
      "\n",
      "    accuracy                           0.52      2400\n",
      "   macro avg       0.51      0.41      0.39      2400\n",
      "weighted avg       0.53      0.52      0.47      2400\n",
      "\n"
     ]
    },
    {
     "name": "stderr",
     "output_type": "stream",
     "text": [
      "C:\\Users\\User\\anaconda3\\lib\\site-packages\\sklearn\\utils\\deprecation.py:87: FutureWarning: Function plot_confusion_matrix is deprecated; Function `plot_confusion_matrix` is deprecated in 1.0 and will be removed in 1.2. Use one of the class methods: ConfusionMatrixDisplay.from_predictions or ConfusionMatrixDisplay.from_estimator.\n",
      "  warnings.warn(msg, category=FutureWarning)\n"
     ]
    },
    {
     "data": {
      "image/png": "[encoded data removed]",
      "text/plain": [
       "<Figure size 432x288 with 2 Axes>"
      ]
     },
     "metadata": {
      "needs_background": "light"
     },
     "output_type": "display_data"
    }
   ],
   "source": [
    "# Se imprime el informe de rendimiento\n",
    "print(\"Datos de prueba\")\n",
    "print(classification_report(Y_test, y_pred_test))\n",
    "# Se puede visualizar la matriz de confusión\n",
    "plot_confusion_matrix(arbol, X_test, Y_test)  \n",
    "plt.show()"
   ]
  },
  {
   "cell_type": "markdown",
   "id": "1f229095",
   "metadata": {},
   "source": [
    "#### Interpretacion del modelo"
   ]
  },
  {
   "cell_type": "markdown",
   "id": "6b3151f1",
   "metadata": {},
   "source": [
    "Podemos determinar cuáles palabras son las más importantes a partir del modelo generado, ya se ve el arbol y la probabilidad de que un dato sea clasificado en una categoría puntual."
   ]
  },
  {
   "cell_type": "code",
   "execution_count": 35,
   "id": "c30327dd",
   "metadata": {},
   "outputs": [
    {
     "data": {
      "text/html": [
       "<div>\n",
       "<style scoped>\n",
       "    .dataframe tbody tr th:only-of-type {\n",
       "        vertical-align: middle;\n",
       "    }\n",
       "\n",
       "    .dataframe tbody tr th {\n",
       "        vertical-align: top;\n",
       "    }\n",
       "\n",
       "    .dataframe thead th {\n",
       "        text-align: right;\n",
       "    }\n",
       "</style>\n",
       "<table border=\"1\" class=\"dataframe\">\n",
       "  <thead>\n",
       "    <tr style=\"text-align: right;\">\n",
       "      <th></th>\n",
       "      <th>Atributo</th>\n",
       "      <th>Importancia</th>\n",
       "    </tr>\n",
       "  </thead>\n",
       "  <tbody>\n",
       "    <tr>\n",
       "      <th>0</th>\n",
       "      <td>tumor</td>\n",
       "      <td>0.202276</td>\n",
       "    </tr>\n",
       "    <tr>\n",
       "      <th>1</th>\n",
       "      <td>coronary</td>\n",
       "      <td>0.149179</td>\n",
       "    </tr>\n",
       "    <tr>\n",
       "      <th>2</th>\n",
       "      <td>cancer</td>\n",
       "      <td>0.137632</td>\n",
       "    </tr>\n",
       "    <tr>\n",
       "      <th>3</th>\n",
       "      <td>ventricular</td>\n",
       "      <td>0.089773</td>\n",
       "    </tr>\n",
       "    <tr>\n",
       "      <th>4</th>\n",
       "      <td>carcinoma</td>\n",
       "      <td>0.083168</td>\n",
       "    </tr>\n",
       "    <tr>\n",
       "      <th>...</th>\n",
       "      <td>...</td>\n",
       "      <td>...</td>\n",
       "    </tr>\n",
       "    <tr>\n",
       "      <th>32913</th>\n",
       "      <td>fivefold</td>\n",
       "      <td>0.000000</td>\n",
       "    </tr>\n",
       "    <tr>\n",
       "      <th>32914</th>\n",
       "      <td>fitting</td>\n",
       "      <td>0.000000</td>\n",
       "    </tr>\n",
       "    <tr>\n",
       "      <th>32915</th>\n",
       "      <td>fitted</td>\n",
       "      <td>0.000000</td>\n",
       "    </tr>\n",
       "    <tr>\n",
       "      <th>32916</th>\n",
       "      <td>fits</td>\n",
       "      <td>0.000000</td>\n",
       "    </tr>\n",
       "    <tr>\n",
       "      <th>32917</th>\n",
       "      <td>zzygos</td>\n",
       "      <td>0.000000</td>\n",
       "    </tr>\n",
       "  </tbody>\n",
       "</table>\n",
       "<p>32918 rows × 2 columns</p>\n",
       "</div>"
      ],
      "text/plain": [
       "          Atributo  Importancia\n",
       "0            tumor     0.202276\n",
       "1         coronary     0.149179\n",
       "2           cancer     0.137632\n",
       "3      ventricular     0.089773\n",
       "4        carcinoma     0.083168\n",
       "...            ...          ...\n",
       "32913     fivefold     0.000000\n",
       "32914      fitting     0.000000\n",
       "32915       fitted     0.000000\n",
       "32916         fits     0.000000\n",
       "32917       zzygos     0.000000\n",
       "\n",
       "[32918 rows x 2 columns]"
      ]
     },
     "execution_count": 35,
     "metadata": {},
     "output_type": "execute_result"
    }
   ],
   "source": [
    "# Obtener la importancia de las variables. Mientras mayor el coeficiente, más la importancia.\n",
    "importancia_atributo = pd.DataFrame(data={\"Atributo\": X_train.columns, \"Importancia\": arbol.feature_importances_})\n",
    "importancia_atributo = importancia_atributo.sort_values(by = 'Importancia', ascending = False).reset_index(drop = True)\n",
    "importancia_atributo"
   ]
  },
  {
   "cell_type": "markdown",
   "id": "a3debd45",
   "metadata": {},
   "source": [
    "Esta información es muy útil para el negocio, pues le permite entender la influencia de cada palabra para la determinación de un problema médico. En este caso, se da relevancia a los problemas en el cuerpo y palabras que representaen enfermedades."
   ]
  },
  {
   "cell_type": "markdown",
   "id": "42e30e8a",
   "metadata": {},
   "source": [
    "A continuación se muestran las 30 palabras mas importantes, para brindar un enfasis que se derivo del algoritmo."
   ]
  },
  {
   "cell_type": "code",
   "execution_count": 40,
   "id": "2694c17e",
   "metadata": {},
   "outputs": [
    {
     "name": "stdout",
     "output_type": "stream",
     "text": [
      "                           0\n",
      "tumor               0.202276\n",
      "coronary            0.149179\n",
      "cancer              0.137632\n",
      "ventricular         0.089773\n",
      "carcinoma           0.083168\n",
      "hypertension        0.077397\n",
      "leukemia            0.048860\n",
      "heart               0.039458\n",
      "portal              0.017475\n",
      "intracranial        0.007112\n",
      "shunt               0.006114\n",
      "nerve               0.005929\n",
      "stroke              0.005254\n",
      "left                0.005062\n",
      "pain                0.004307\n",
      "cholesterol         0.004269\n",
      "chest               0.003993\n",
      "biliary             0.003974\n",
      "cardiovascular      0.003858\n",
      "showed              0.003843\n",
      "bypass              0.003562\n",
      "resonance           0.003282\n",
      "progressive         0.003238\n",
      "disorder            0.003156\n",
      "polyps              0.003124\n",
      "cns                 0.003062\n",
      "cell                0.002990\n",
      "tnf                 0.002734\n",
      "neurodevelopmental  0.002698\n",
      "transformation      0.002660\n"
     ]
    }
   ],
   "source": [
    "feature_importance = pd.DataFrame(arbol.feature_importances_, index=X_train.columns)\n",
    "print(feature_importance.sort_values(by=0, ascending=False)[:30])"
   ]
  },
  {
   "cell_type": "markdown",
   "id": "01476160",
   "metadata": {},
   "source": [
    "### Gradient Boosting"
   ]
  },
  {
   "cell_type": "code",
   "execution_count": 41,
   "id": "d7c4fcfe",
   "metadata": {},
   "outputs": [],
   "source": [
    "from sklearn.ensemble import GradientBoostingClassifier"
   ]
  },
  {
   "cell_type": "code",
   "execution_count": 43,
   "id": "205b4c00",
   "metadata": {},
   "outputs": [],
   "source": [
    "# Se selecciona la variable objetivo\n",
    "Y = df_model['problems_described']\n",
    "# Del conjunto de datos se elimina la variable target. En este caso, se realiza el cambio de categoricos a numericos en el\n",
    "# modelamiento.\n",
    "X = X_text"
   ]
  },
  {
   "cell_type": "code",
   "execution_count": 44,
   "id": "0e455a0a",
   "metadata": {},
   "outputs": [],
   "source": [
    "# Dividir los datos en entrenamiento y test\n",
    "X_train_gb, X_test_gb, Y_train_gb, Y_test_gb = train_test_split(X, Y, test_size = 0.2, random_state = 0)"
   ]
  },
  {
   "cell_type": "code",
   "execution_count": 45,
   "id": "dae1b8b2",
   "metadata": {},
   "outputs": [
    {
     "data": {
      "text/plain": [
       "GradientBoostingClassifier(n_estimators=150, random_state=0)"
      ]
     },
     "execution_count": 45,
     "metadata": {},
     "output_type": "execute_result"
    }
   ],
   "source": [
    "best_model_gradient = GradientBoostingClassifier(random_state = 0, n_estimators= 150)\n",
    "best_model_gradient.fit(X_train_gb, Y_train_gb)"
   ]
  },
  {
   "cell_type": "code",
   "execution_count": 46,
   "id": "a7270793",
   "metadata": {},
   "outputs": [
    {
     "name": "stdout",
     "output_type": "stream",
     "text": [
      "Datos de prueba\n",
      "              precision    recall  f1-score   support\n",
      "\n",
      "           1       0.71      0.67      0.69       553\n",
      "           2       0.40      0.03      0.06       237\n",
      "           3       0.35      0.02      0.04       328\n",
      "           4       0.71      0.56      0.63       523\n",
      "           5       0.40      0.75      0.52       759\n",
      "\n",
      "    accuracy                           0.52      2400\n",
      "   macro avg       0.51      0.41      0.39      2400\n",
      "weighted avg       0.53      0.52      0.47      2400\n",
      "\n"
     ]
    },
    {
     "name": "stderr",
     "output_type": "stream",
     "text": [
      "C:\\Users\\User\\anaconda3\\lib\\site-packages\\sklearn\\utils\\deprecation.py:87: FutureWarning: Function plot_confusion_matrix is deprecated; Function `plot_confusion_matrix` is deprecated in 1.0 and will be removed in 1.2. Use one of the class methods: ConfusionMatrixDisplay.from_predictions or ConfusionMatrixDisplay.from_estimator.\n",
      "  warnings.warn(msg, category=FutureWarning)\n"
     ]
    },
    {
     "data": {
      "image/png": "[encoded data removed]",
      "text/plain": [
       "<Figure size 432x288 with 2 Axes>"
      ]
     },
     "metadata": {
      "needs_background": "light"
     },
     "output_type": "display_data"
    }
   ],
   "source": [
    "# Se imprime el informe de rendimiento\n",
    "print(\"Datos de prueba\")\n",
    "print(classification_report(Y_test_gb, y_pred_test))\n",
    "# Se puede visualizar la matriz de confusión\n",
    "plot_confusion_matrix(best_model_gradient, X_test_gb, Y_test_gb)  \n",
    "plt.show()"
   ]
  },
  {
   "cell_type": "markdown",
   "id": "8aa2fe56",
   "metadata": {},
   "source": [
    "### Support Vector Classifier"
   ]
  },
  {
   "cell_type": "code",
   "execution_count": 48,
   "id": "f15614d9",
   "metadata": {},
   "outputs": [],
   "source": [
    "from sklearn.naive_bayes import BernoulliNB"
   ]
  },
  {
   "cell_type": "code",
   "execution_count": 49,
   "id": "f9a7ca4f",
   "metadata": {},
   "outputs": [],
   "source": [
    "parameters={'alpha':[0,0.5,1]}"
   ]
  },
  {
   "cell_type": "code",
   "execution_count": 50,
   "id": "e0f4a1df",
   "metadata": {},
   "outputs": [
    {
     "name": "stderr",
     "output_type": "stream",
     "text": [
      "C:\\Users\\User\\anaconda3\\lib\\site-packages\\sklearn\\naive_bayes.py:555: UserWarning: alpha too small will result in numeric errors, setting alpha = 1.0e-10\n",
      "  warnings.warn(\n",
      "C:\\Users\\User\\anaconda3\\lib\\site-packages\\sklearn\\naive_bayes.py:555: UserWarning: alpha too small will result in numeric errors, setting alpha = 1.0e-10\n",
      "  warnings.warn(\n",
      "C:\\Users\\User\\anaconda3\\lib\\site-packages\\sklearn\\naive_bayes.py:555: UserWarning: alpha too small will result in numeric errors, setting alpha = 1.0e-10\n",
      "  warnings.warn(\n",
      "C:\\Users\\User\\anaconda3\\lib\\site-packages\\sklearn\\naive_bayes.py:555: UserWarning: alpha too small will result in numeric errors, setting alpha = 1.0e-10\n",
      "  warnings.warn(\n",
      "C:\\Users\\User\\anaconda3\\lib\\site-packages\\sklearn\\naive_bayes.py:555: UserWarning: alpha too small will result in numeric errors, setting alpha = 1.0e-10\n",
      "  warnings.warn(\n"
     ]
    }
   ],
   "source": [
    "BNB=BernoulliNB()\n",
    "BNB_Best=GridSearchCV(BNB,parameters).fit(X_text,df_model[\"problems_described\"].values).best_estimator_"
   ]
  },
  {
   "cell_type": "code",
   "execution_count": 51,
   "id": "ea7a6ea8",
   "metadata": {},
   "outputs": [
    {
     "name": "stdout",
     "output_type": "stream",
     "text": [
      "              precision    recall  f1-score   support\n",
      "\n",
      "           1       0.74      0.83      0.78      2629\n",
      "           2       0.61      0.83      0.70      1242\n",
      "           3       0.60      0.78      0.68      1600\n",
      "           4       0.70      0.79      0.74      2536\n",
      "           5       0.73      0.44      0.55      3993\n",
      "\n",
      "    accuracy                           0.69     12000\n",
      "   macro avg       0.68      0.73      0.69     12000\n",
      "weighted avg       0.70      0.69      0.67     12000\n",
      "\n"
     ]
    }
   ],
   "source": [
    "print(classification_report(df_model[\"problems_described\"].values, BNB_Best.predict(X_text), labels=[1, 2, 3, 4, 5]))"
   ]
  },
  {
   "cell_type": "code",
   "execution_count": null,
   "id": "739378fd",
   "metadata": {},
   "outputs": [],
   "source": []
  }
 ],
 "metadata": {
  "kernelspec": {
   "display_name": "Python 3 (ipykernel)",
   "language": "python",
   "name": "python3"
  },
  "language_info": {
   "codemirror_mode": {
    "name": "ipython",
    "version": 3
   },
   "file_extension": ".py",
   "mimetype": "text/x-python",
   "name": "python",
   "nbconvert_exporter": "python",
   "pygments_lexer": "ipython3",
   "version": "3.9.7"
  }
 },
 "nbformat": 4,
 "nbformat_minor": 5
}
